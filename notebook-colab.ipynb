{
  "cells": [
    {
      "cell_type": "markdown",
      "metadata": {
        "id": "view-in-github",
        "colab_type": "text"
      },
      "source": [
        "<a href=\"https://colab.research.google.com/github/andreclaudino/pos-puc-rio-mvp-ciencia-de-dados/blob/main/notebook-colab.ipynb\" target=\"_parent\"><img src=\"https://colab.research.google.com/assets/colab-badge.svg\" alt=\"Open In Colab\"/></a>"
      ]
    },
    {
      "cell_type": "markdown",
      "id": "f91dd41e",
      "metadata": {
        "id": "f91dd41e"
      },
      "source": [
        "# Patrimômio e poder - A influência dos Bens nas Eleições municipais de 2024"
      ]
    },
    {
      "cell_type": "markdown",
      "id": "ed03d042",
      "metadata": {
        "id": "ed03d042"
      },
      "source": [
        "\n",
        "## Introdução\n",
        "Neste estudo, eu farei uma análise da relação entre bens de candidatos e as chances de vitória nas eleições municipais de 2024. O alvo principal deste estudo é a relação entre os bens declarados pelos candidatos e a situação dos mesmos ao final das eleições, porém, vamos considerar também outros fatores como grau de instrução, gênero, raça, idade e estado civil.\n"
      ]
    },
    {
      "cell_type": "markdown",
      "id": "a0b25dfa",
      "metadata": {
        "id": "a0b25dfa"
      },
      "source": [
        "\n",
        "## Premissas\n",
        "\n",
        "Assumimos as seguintes premissas:\n",
        "\n",
        "* Os bens declarados refletem razoavelmente o patrimônio real dos candidatos (reconhecendo a possibilidade de subdeclaração).\n",
        "* Assumimos que dentro do possível, as diferenças econômicas entre as regiões não influenciam os resultados.\n",
        "* Sabemos que há outros fatores que influenciam a eleição, mas nos concentraremos nos dados que possuímos assumindo que são suficientes\n",
        "* Assumimos que dentro da mesma eleição (candidatos que competem entre si), os candidatos são suficientemente comparáveis.\n",
        "* O foco será apenas nos candidatos à vereador\n",
        "* Como foco é apenas em vereadores, consideraremos apenas candidaturas no primeiro turno.\n",
        "* Consideraremos apenas as eleições ordinárias\n"
      ]
    },
    {
      "cell_type": "markdown",
      "id": "ec186d63",
      "metadata": {
        "id": "ec186d63"
      },
      "source": [
        "\n",
        "## Hipóteses\n",
        "\n",
        "* O Patrimônio de um candidato está relacionado com as suas chances de ser eleito?\n",
        "* Candidatos com a ocupação VEREADOR tem mais chances de ser eleitos (ou seja, há mais chances de reeleição)?\n",
        "* A raça do candidato está ligada a ter maior patrimônio ou a ter mais chances de ser eleito?\n",
        "\n",
        "\n"
      ]
    },
    {
      "cell_type": "markdown",
      "id": "6cd7f0c6",
      "metadata": {
        "id": "6cd7f0c6"
      },
      "source": [
        "## Dados envolvidos\n",
        "\n",
        "Há dois datasets para serem analisados:\n",
        "\n",
        "* `consulta_cand_2024_BRASIL.csv`: Este dataset apresenta dados de grau de instrução, gênero, raça, idade e estado civil, a situação do candidato ao final da eleição, sua afiliação partidária e a eleição na qual concorreu.\n",
        "* `bem_candidato_2024_BRASIL.csv`: Aqui temos os bens delcarados pelos candidatos na eleição em questão, incluindo o tipo do bem e o valor.\n",
        "* `consulta_vagas_2024_BRASIL.csv`: Contém informações de vagas disponíveis para as eleições\n",
        "\n",
        "Os dicionários de dados se encontram nos arquivos com extensão pdf de mesmo nome que os arquivos de dados. à Seguir, apresento algumas informações para colunas relevantes.\n",
        "\n",
        "Os arquivos tem muitas coluneas, ao longo da análise reforço as relevantes, mas para a lista e a explicação de cada uma delas, pode-se olhar a documentação do dataset, que contém o dicionário de dados.\n",
        "\n",
        "* [bens de candidatos](https://github.com/andreclaudino/pos-puc-rio-mvp-ciencia-de-dados/blob/main/dados/bem_candidato_2024_BRASIL.pdf)\n",
        "* [Informações de candidatos](https://github.com/andreclaudino/pos-puc-rio-mvp-ciencia-de-dados/blob/main/dados/consulta_cand_2024_BRASIL.pdf)\n",
        "* [Vagas disponíveis](https://github.com/andreclaudino/pos-puc-rio-mvp-ciencia-de-dados/blob/main/dados/consulta_vagas_2024_BRASIL.pdf)"
      ]
    },
    {
      "cell_type": "markdown",
      "id": "2c319812",
      "metadata": {
        "id": "2c319812"
      },
      "source": [
        "# Execução da análise"
      ]
    },
    {
      "cell_type": "markdown",
      "id": "2e1c4fdb",
      "metadata": {
        "id": "2e1c4fdb"
      },
      "source": [
        "## Importação das dependências\n",
        "\n",
        "O projeto foi organizado seguindo boas práticas de código, e portanto, as funções de carregamento e preparação estão no módulo `mvp`."
      ]
    },
    {
      "cell_type": "markdown",
      "id": "2eff1edf",
      "metadata": {
        "id": "2eff1edf"
      },
      "source": [
        "Antes de tudo, precisamos clonar os módulos com o projeto do MBA e os dados do github:"
      ]
    },
    {
      "cell_type": "code",
      "execution_count": 1,
      "id": "412974e2",
      "metadata": {
        "colab": {
          "base_uri": "https://localhost:8080/"
        },
        "id": "412974e2",
        "outputId": "3b547bc5-2d99-4f22-b58a-9aa616369fef"
      },
      "outputs": [
        {
          "output_type": "stream",
          "name": "stdout",
          "text": [
            "Cloning into 'pos-puc-rio-mvp-ciencia-de-dados'...\n",
            "remote: Enumerating objects: 55, done.\u001b[K\n",
            "remote: Counting objects: 100% (25/25), done.\u001b[K\n",
            "remote: Compressing objects: 100% (24/24), done.\u001b[K\n",
            "remote: Total 55 (delta 11), reused 4 (delta 0), pack-reused 30 (from 1)\u001b[K\n",
            "Receiving objects: 100% (55/55), 57.23 MiB | 24.85 MiB/s, done.\n",
            "Resolving deltas: 100% (12/12), done.\n",
            "Obtaining file:///content/pos-puc-rio-mvp-ciencia-de-dados\n",
            "  Installing build dependencies ... \u001b[?25l\u001b[?25hdone\n",
            "  Checking if build backend supports build_editable ... \u001b[?25l\u001b[?25hdone\n",
            "  Getting requirements to build editable ... \u001b[?25l\u001b[?25hdone\n",
            "  Preparing editable metadata (pyproject.toml) ... \u001b[?25l\u001b[?25hdone\n",
            "Building wheels for collected packages: mvp\n",
            "  Building editable for mvp (pyproject.toml) ... \u001b[?25l\u001b[?25hdone\n",
            "  Created wheel for mvp: filename=mvp-0.1.0-0.editable-py3-none-any.whl size=1196 sha256=cad03ad95917235849c2376e1a0a8d72d9fc39897f14b85d4bedbe36d9b1962c\n",
            "  Stored in directory: /tmp/pip-ephem-wheel-cache-w8xxvbil/wheels/56/42/6a/fb8e4edaac1347eb412438c7fd6e23971cbab9cd6f4d2ff96c\n",
            "Successfully built mvp\n",
            "Installing collected packages: mvp\n",
            "Successfully installed mvp-0.1.0\n"
          ]
        }
      ],
      "source": [
        "!git clone https://github.com/andreclaudino/pos-puc-rio-mvp-ciencia-de-dados\n",
        "!pip install -e pos-puc-rio-mvp-ciencia-de-dados/\n",
        "!cp -r pos-puc-rio-mvp-ciencia-de-dados/src/mvp mvp\n",
        "!cp -r pos-puc-rio-mvp-ciencia-de-dados/dados dados"
      ]
    },
    {
      "cell_type": "code",
      "execution_count": 2,
      "id": "f366aee5",
      "metadata": {
        "id": "f366aee5"
      },
      "outputs": [],
      "source": [
        "import os\n",
        "from mvp.persistence.loaders import load_data_source\n",
        "from mvp.session_utils import create_spark_session\n",
        "\n",
        "from mvp.preprocessors import remove_columns, rename_columns, sort_by_categorical_field, \\\n",
        "    parse_text_to_float_udf, remove_group_outliers, replace_outliers, calculate_group_dispersion\n",
        "from mvp.analysis import count_column_occurencies, measure_column_value_proportions\n",
        "\n",
        "from mvp.visualization import create_bar_chart, create_pie_chart, create_histogram\n",
        "\n",
        "from pyspark.sql.functions import col, lit\n",
        "\n",
        "from mvp.constants import GRAUS_DE_INSTRUCAO_SORT_ORDER\n",
        "\n",
        "from mvp.domain.candidatos import mescla_estados_civis_udf, mescla_ocupação_udf, \\\n",
        "    calcula_idade_no_ano_udf, mescla_situacao_no_turno_udf, segmenta_idade_udf\n",
        "\n",
        "from mvp.domain.bens_de_candidatos import calcula_patrimonio\n",
        "\n",
        "from mvp.training import separa_treino_e_teste\n",
        "from mvp.training import preapre_feature_engineering_pipeline"
      ]
    },
    {
      "cell_type": "markdown",
      "id": "3d9c6699",
      "metadata": {
        "id": "3d9c6699"
      },
      "source": [
        "## Preparação do ambiente\n",
        "\n",
        "Aqui preparamos o ambiente spark para processamento, definindo as entradas, construindo a sessão e definindo configurações do ambiente"
      ]
    },
    {
      "cell_type": "code",
      "execution_count": 3,
      "id": "570fabd6",
      "metadata": {
        "id": "570fabd6"
      },
      "outputs": [],
      "source": [
        "dados_de_candidatos_source_path = \"dados/consulta_cand_2024_BRASIL.csv.gz\"\n",
        "bens_de_candidados_source_path = \"dados/bem_candidato_2024_BRASIL.csv.gz\"\n",
        "vagas_por_eleicao_source_path = \"dados/consulta_vagas_2024_BRASIL.csv.gz\""
      ]
    },
    {
      "cell_type": "markdown",
      "source": [
        "Vamos definir também o caminho principal de saída, à partir dele, todos os demais serão criados."
      ],
      "metadata": {
        "id": "1auQTXvSuHyd"
      },
      "id": "1auQTXvSuHyd"
    },
    {
      "cell_type": "code",
      "execution_count": 4,
      "id": "9794d202",
      "metadata": {
        "id": "9794d202"
      },
      "outputs": [],
      "source": [
        "output_path = \"outputs\""
      ]
    },
    {
      "cell_type": "code",
      "execution_count": 5,
      "id": "91d465f6",
      "metadata": {
        "id": "91d465f6"
      },
      "outputs": [],
      "source": [
        "# Inicializa sessão do Spark\n",
        "spark = create_spark_session()\n"
      ]
    },
    {
      "cell_type": "markdown",
      "id": "53b73b1e",
      "metadata": {
        "id": "53b73b1e"
      },
      "source": [
        "## Dados de candidatos\n",
        "\n",
        "Vamos começar com os dados de candidatos."
      ]
    },
    {
      "cell_type": "code",
      "execution_count": 5,
      "id": "9d4406e7",
      "metadata": {
        "id": "9d4406e7"
      },
      "outputs": [],
      "source": []
    },
    {
      "cell_type": "code",
      "execution_count": 6,
      "id": "84b932f7",
      "metadata": {
        "id": "84b932f7"
      },
      "outputs": [],
      "source": [
        "# Carrega os dados de candidatos\n",
        "dados_de_candidatos = load_data_source(spark, dados_de_candidatos_source_path)"
      ]
    },
    {
      "cell_type": "markdown",
      "id": "e3d07889",
      "metadata": {
        "id": "e3d07889"
      },
      "source": [
        "### Remoção de colunas\n",
        "\n",
        "Pelo dicionário de dados entendemos que algumas colunas não são relevantes para nossa análise. Algumas não representam informações de interesse para nossa pesquisa, e outras são apenas códigos numéricos redundantes com informações de outras colunas de interesse.\n",
        "\n",
        "Vamos começar a limpeza deste dataset removendo as colunas que não nos interessam para esta pesquisa."
      ]
    },
    {
      "cell_type": "code",
      "execution_count": 7,
      "id": "4e6bc0bd",
      "metadata": {
        "colab": {
          "base_uri": "https://localhost:8080/"
        },
        "id": "4e6bc0bd",
        "outputId": "3e13c5c9-ce7c-448d-caa7-7301bb91ab1d"
      },
      "outputs": [
        {
          "output_type": "stream",
          "name": "stdout",
          "text": [
            "root\n",
            " |-- NM_TIPO_ELEICAO: string (nullable = true)\n",
            " |-- NR_TURNO: string (nullable = true)\n",
            " |-- CD_ELEICAO: string (nullable = true)\n",
            " |-- DS_ELEICAO: string (nullable = true)\n",
            " |-- SG_UF: string (nullable = true)\n",
            " |-- SG_UE: string (nullable = true)\n",
            " |-- NM_UE: string (nullable = true)\n",
            " |-- DS_CARGO: string (nullable = true)\n",
            " |-- SQ_CANDIDATO: string (nullable = true)\n",
            " |-- DT_NASCIMENTO: string (nullable = true)\n",
            " |-- DS_GENERO: string (nullable = true)\n",
            " |-- DS_GRAU_INSTRUCAO: string (nullable = true)\n",
            " |-- DS_ESTADO_CIVIL: string (nullable = true)\n",
            " |-- DS_COR_RACA: string (nullable = true)\n",
            " |-- DS_OCUPACAO: string (nullable = true)\n",
            " |-- DS_SIT_TOT_TURNO: string (nullable = true)\n",
            "\n"
          ]
        }
      ],
      "source": [
        "# Remove columas irrelevantes\n",
        "columns_to_remove_from_dados_de_candidatos = [\n",
        "    \"DT_GERACAO\",\n",
        "    \"HH_GERACAO\",\n",
        "    \"ANO_ELEICAO\",\n",
        "    \"DT_ELEICAO\",\n",
        "    \"CD_TIPO_ELEICAO\",\n",
        "    \"CD_CARGO\",\n",
        "    \"CD_SITUACAO_CANDIDATURA\",\n",
        "    \"DS_SITUACAO_CANDIDATURA\",\n",
        "    \"TP_AGREMIACAO\",\n",
        "    \"NR_PARTIDO\",\n",
        "    \"NM_PARTIDO\",\n",
        "    \"CD_GENERO\",\n",
        "    \"CD_GRAU_INSTRUCAO\",\n",
        "    \"CD_ESTADO_CIVIL\",\n",
        "    \"CD_COR_RACA\",\n",
        "    \"CD_OCUPACAO\",\n",
        "    \"CD_SIT_TOT_TURNO\",\n",
        "    \"NR_TITULO_ELEITORAL_CANDIDATO\",\n",
        "    \"NR_CPF_CANDIDATO\",\n",
        "    \"NR_CANDIDATO\",\n",
        "    \"NM_URNA_CANDIDATO\",\n",
        "    \"NM_SOCIAL_CANDIDATO\",\n",
        "    \"NR_FEDERACAO\",\n",
        "    \"SG_FEDERACAO\",\n",
        "    \"NM_COLIGACAO\",\n",
        "    \"DS_COMPOSICAO_COLIGACAO\",\n",
        "    \"DS_COMPOSICAO_FEDERACAO\",\n",
        "    \"DS_EMAIL\",\n",
        "    \"SG_UF_NASCIMENTO\",\n",
        "    \"SQ_COLIGACAO\",\n",
        "    \"SG_PARTIDO\",\n",
        "    \"TP_ABRANGENCIA\",\n",
        "    \"SQ_COLIGACAO\",\n",
        "    \"SG_UF_NASCIMENTO\",\n",
        "    \"NM_CANDIDATO\",\n",
        "    \"NM_FEDERACAO\"\n",
        "]\n",
        "\n",
        "dados_de_candidatos = remove_columns(dados_de_candidatos, columns_to_remove_from_dados_de_candidatos)\n",
        "dados_de_candidatos.printSchema()"
      ]
    },
    {
      "cell_type": "markdown",
      "id": "bf25768b",
      "metadata": {
        "id": "bf25768b"
      },
      "source": [
        "Para tornar a compreensão mais clara, vamos renomear as colunas, gerando um schema mais legível."
      ]
    },
    {
      "cell_type": "code",
      "execution_count": 8,
      "id": "6e9e9350",
      "metadata": {
        "colab": {
          "base_uri": "https://localhost:8080/"
        },
        "id": "6e9e9350",
        "outputId": "b0072706-f508-48eb-8123-18ef753175e3"
      },
      "outputs": [
        {
          "output_type": "stream",
          "name": "stdout",
          "text": [
            "root\n",
            " |-- tipo_eleicao: string (nullable = true)\n",
            " |-- turno: string (nullable = true)\n",
            " |-- codigo_eleicao: string (nullable = true)\n",
            " |-- descricao_eleicao: string (nullable = true)\n",
            " |-- uf: string (nullable = true)\n",
            " |-- codigo_unidade_eleitoral: string (nullable = true)\n",
            " |-- unidade_eleitoral: string (nullable = true)\n",
            " |-- cargo: string (nullable = true)\n",
            " |-- codigo_candidato: string (nullable = true)\n",
            " |-- data_nascimento: string (nullable = true)\n",
            " |-- genero: string (nullable = true)\n",
            " |-- grau_instrucao: string (nullable = true)\n",
            " |-- estado_civil: string (nullable = true)\n",
            " |-- cor_raca: string (nullable = true)\n",
            " |-- ocupacao: string (nullable = true)\n",
            " |-- situacao_no_turno: string (nullable = true)\n",
            "\n"
          ]
        }
      ],
      "source": [
        "column_renames_on_dados_de_candidatos = {\n",
        "    \"NM_TIPO_ELEICAO\": \"tipo_eleicao\",\n",
        "    \"NR_TURNO\": \"turno\",\n",
        "    \"CD_ELEICAO\": \"codigo_eleicao\",\n",
        "    \"DS_ELEICAO\": \"descricao_eleicao\",\n",
        "    \"SG_UF\": \"uf\",\n",
        "    \"SG_UE\": \"codigo_unidade_eleitoral\",\n",
        "    \"NM_UE\": \"unidade_eleitoral\",\n",
        "    \"DS_CARGO\": \"cargo\",\n",
        "    \"SQ_CANDIDATO\": \"codigo_candidato\",\n",
        "    \"DT_NASCIMENTO\": \"data_nascimento\",\n",
        "    \"DS_GENERO\": \"genero\",\n",
        "    \"DS_GRAU_INSTRUCAO\": \"grau_instrucao\",\n",
        "    \"DS_ESTADO_CIVIL\": \"estado_civil\",\n",
        "    \"DS_COR_RACA\": \"cor_raca\",\n",
        "    \"DS_OCUPACAO\": \"ocupacao\",\n",
        "    \"DS_SIT_TOT_TURNO\": \"situacao_no_turno\"\n",
        "}\n",
        "\n",
        "dados_de_candidatos = rename_columns(dados_de_candidatos, column_renames_on_dados_de_candidatos)\n",
        "dados_de_candidatos.printSchema()"
      ]
    },
    {
      "cell_type": "code",
      "execution_count": 9,
      "id": "ac63d556",
      "metadata": {
        "colab": {
          "base_uri": "https://localhost:8080/"
        },
        "id": "ac63d556",
        "outputId": "7f18cd49-3cdb-414b-dc38-efc421816837"
      },
      "outputs": [
        {
          "output_type": "stream",
          "name": "stdout",
          "text": [
            "+-------------------+-----+--------------+-----------------------------+---+------------------------+-------------------+--------+----------------+---------------+---------+-----------------------------+------------+--------+------------------------------------+-----------------+\n",
            "|tipo_eleicao       |turno|codigo_eleicao|descricao_eleicao            |uf |codigo_unidade_eleitoral|unidade_eleitoral  |cargo   |codigo_candidato|data_nascimento|genero   |grau_instrucao               |estado_civil|cor_raca|ocupacao                            |situacao_no_turno|\n",
            "+-------------------+-----+--------------+-----------------------------+---+------------------------+-------------------+--------+----------------+---------------+---------+-----------------------------+------------+--------+------------------------------------+-----------------+\n",
            "|ELEIÇÃO SUPLEMENTAR|1    |6200          |Eleição suplementar Guapé    |MG |45616                   |GUAPÉ              |PREFEITO|130002515251    |15/09/1987     |MASCULINO|SUPERIOR COMPLETO            |CASADO(A)   |BRANCA  |VEREADOR                            |#NULO            |\n",
            "|ELEIÇÃO SUPLEMENTAR|1    |6140          |Eleição Suplementar de Goiana|PE |24236                   |GOIANA             |PREFEITO|170002489059    |06/12/1958     |MASCULINO|SUPERIOR INCOMPLETO          |CASADO(A)   |BRANCA  |EMPRESÁRIO                          |ELEITO           |\n",
            "|ELEIÇÃO ORDINÁRIA  |1    |619           |Eleições Municipais 2024     |SC |80411                   |BARRA VELHA        |PREFEITO|240002007180    |27/11/1954     |MASCULINO|SUPERIOR COMPLETO            |SOLTEIRO(A) |BRANCA  |APOSENTADO (EXCETO SERVIDOR PÚBLICO)|NÃO ELEITO       |\n",
            "|ELEIÇÃO ORDINÁRIA  |1    |619           |Eleições Municipais 2024     |SC |80926                   |PONTE ALTA DO NORTE|PREFEITO|240002289179    |06/04/1968     |MASCULINO|SUPERIOR COMPLETO            |CASADO(A)   |PARDA   |CONTADOR                            |NÃO ELEITO       |\n",
            "|ELEIÇÃO ORDINÁRIA  |1    |619           |Eleições Municipais 2024     |RS |85952                   |CASCA              |VEREADOR|210002366168    |08/05/1973     |MASCULINO|ENSINO FUNDAMENTAL INCOMPLETO|SOLTEIRO(A) |BRANCA  |COMERCIANTE                         |ELEITO POR QP    |\n",
            "|ELEIÇÃO ORDINÁRIA  |1    |619           |Eleições Municipais 2024     |RS |85880                   |CASEIROS           |VEREADOR|210002245308    |01/03/1984     |FEMININO |SUPERIOR INCOMPLETO          |SOLTEIRO(A) |PARDA   |CABELEIREIRO E BARBEIRO             |ELEITO POR QP    |\n",
            "|ELEIÇÃO ORDINÁRIA  |1    |619           |Eleições Municipais 2024     |RS |85979                   |CATUÍPE            |VEREADOR|210002156151    |18/07/1976     |FEMININO |ENSINO FUNDAMENTAL COMPLETO  |CASADO(A)   |BRANCA  |DONA DE CASA                        |SUPLENTE         |\n",
            "|ELEIÇÃO ORDINÁRIA  |1    |619           |Eleições Municipais 2024     |RS |85979                   |CATUÍPE            |VEREADOR|210002156155    |30/05/1972     |MASCULINO|SUPERIOR COMPLETO            |CASADO(A)   |BRANCA  |VEREADOR                            |SUPLENTE         |\n",
            "|ELEIÇÃO ORDINÁRIA  |1    |619           |Eleições Municipais 2024     |RS |85910                   |CARAZINHO          |VEREADOR|210002108749    |08/11/1995     |MASCULINO|ENSINO FUNDAMENTAL COMPLETO  |SOLTEIRO(A) |BRANCA  |VEREADOR                            |ELEITO POR MÉDIA |\n",
            "|ELEIÇÃO ORDINÁRIA  |1    |619           |Eleições Municipais 2024     |RS |85910                   |CARAZINHO          |VEREADOR|210002202494    |17/06/1952     |MASCULINO|ENSINO FUNDAMENTAL INCOMPLETO|VIÚVO(A)    |BRANCA  |OUTROS                              |NÃO ELEITO       |\n",
            "+-------------------+-----+--------------+-----------------------------+---+------------------------+-------------------+--------+----------------+---------------+---------+-----------------------------+------------+--------+------------------------------------+-----------------+\n",
            "only showing top 10 rows\n",
            "\n"
          ]
        }
      ],
      "source": [
        "dados_de_candidatos.show(10, truncate=False)"
      ]
    },
    {
      "cell_type": "markdown",
      "id": "9aba81bd",
      "metadata": {
        "id": "9aba81bd"
      },
      "source": [
        "Agora vamos analisar os diferentes valores das colunas, tanto para entender quais valores não são relevantes quanto para encontrar valores nulos/inválidos, ou que os representem e seguir com a limpeza do dataset."
      ]
    },
    {
      "cell_type": "code",
      "execution_count": 10,
      "id": "93a9ee39",
      "metadata": {
        "colab": {
          "base_uri": "https://localhost:8080/"
        },
        "id": "93a9ee39",
        "outputId": "76fc2b06-f9b4-49ab-f363-45597d3c84a9"
      },
      "outputs": [
        {
          "output_type": "stream",
          "name": "stdout",
          "text": [
            "+-----+------+\n",
            "|turno| count|\n",
            "+-----+------+\n",
            "|    1|463441|\n",
            "|    2|   204|\n",
            "+-----+------+\n",
            "\n"
          ]
        }
      ],
      "source": [
        "count_column_occurencies(dados_de_candidatos, \"turno\").show()"
      ]
    },
    {
      "cell_type": "markdown",
      "id": "323e47f2",
      "metadata": {
        "id": "323e47f2"
      },
      "source": [
        "De acordo com as premissas, só temos interesse no primeiro turno, então vamos excluir as linhas relacionadas ao segundo turno."
      ]
    },
    {
      "cell_type": "code",
      "execution_count": 11,
      "id": "6b9adc3c",
      "metadata": {
        "id": "6b9adc3c"
      },
      "outputs": [],
      "source": [
        "dados_de_candidatos = dados_de_candidatos.filter(col(\"turno\") == lit(1))\n",
        "dados_de_candidatos = remove_columns(dados_de_candidatos, [\"turno\"])"
      ]
    },
    {
      "cell_type": "code",
      "execution_count": null,
      "id": "3ded0378",
      "metadata": {
        "id": "3ded0378"
      },
      "outputs": [],
      "source": [
        "count_column_occurencies(dados_de_candidatos, \"descricao_eleicao\").show(truncate=False)"
      ]
    },
    {
      "cell_type": "markdown",
      "id": "044e6bcb",
      "metadata": {
        "id": "044e6bcb"
      },
      "source": [
        "De acordo com as premissas, só temos interesse nas `Eleições Municipais 2024`, então vamos excluir as demais."
      ]
    },
    {
      "cell_type": "code",
      "execution_count": null,
      "id": "43927e49",
      "metadata": {
        "id": "43927e49"
      },
      "outputs": [],
      "source": [
        "dados_de_candidatos = dados_de_candidatos.filter(col(\"descricao_eleicao\") == lit(\"Eleições Municipais 2024\"))\n",
        "dados_de_candidatos = remove_columns(dados_de_candidatos, [\"descricao_eleicao\"])"
      ]
    },
    {
      "cell_type": "code",
      "execution_count": null,
      "id": "cba4c724",
      "metadata": {
        "id": "cba4c724"
      },
      "outputs": [],
      "source": [
        "count_column_occurencies(dados_de_candidatos, \"cargo\").show(truncate=False)"
      ]
    },
    {
      "cell_type": "markdown",
      "id": "b1e3fa9b",
      "metadata": {
        "id": "b1e3fa9b"
      },
      "source": [
        "De acordo com as premissas, nossa candidatura é apenas para o cargo de VEREADOR, então, excluímos as demais."
      ]
    },
    {
      "cell_type": "code",
      "execution_count": null,
      "id": "9576571e",
      "metadata": {
        "id": "9576571e"
      },
      "outputs": [],
      "source": [
        "dados_de_candidatos = dados_de_candidatos.filter(col(\"cargo\") == \"VEREADOR\")\n",
        "dados_de_candidatos = remove_columns(dados_de_candidatos, [\"cargo\"])"
      ]
    },
    {
      "cell_type": "markdown",
      "id": "6928f294",
      "metadata": {
        "id": "6928f294"
      },
      "source": [
        "### Gênero\n",
        "\n",
        "Vamos analisar o gênero declarado do candidato"
      ]
    },
    {
      "cell_type": "code",
      "execution_count": null,
      "id": "53cd31fb",
      "metadata": {
        "id": "53cd31fb"
      },
      "outputs": [],
      "source": [
        "count_column_occurencies(dados_de_candidatos, \"genero\").show(truncate=False)\n",
        "measure_column_value_proportions(dados_de_candidatos, \"genero\").show(truncate=False)"
      ]
    },
    {
      "cell_type": "markdown",
      "id": "78dc1dc8",
      "metadata": {
        "id": "78dc1dc8"
      },
      "source": [
        "Existe um grupo, `NÃO DIVULGÁVEL`, que corresponde à proporção de $9e-5$ do dataset, o que corresponde à aproximadamente $0,009\\%$, tornando-o descartável frente aos demais grupos que correspondem à $35\\%$ e $64\\%$, vamos então simplificar a análise removendo este grupo."
      ]
    },
    {
      "cell_type": "code",
      "execution_count": null,
      "id": "69552d17",
      "metadata": {
        "id": "69552d17"
      },
      "outputs": [],
      "source": [
        "dados_de_candidatos = dados_de_candidatos.filter((col(\"genero\") == lit(\"MASCULINO\")) | (col(\"genero\") == lit(\"FEMININO\")))"
      ]
    },
    {
      "cell_type": "code",
      "execution_count": null,
      "id": "f05e9613",
      "metadata": {
        "id": "f05e9613"
      },
      "outputs": [],
      "source": [
        "generos_de_candidatos = count_column_occurencies(dados_de_candidatos, \"genero\")\n",
        "\n",
        "create_pie_chart(\n",
        "    generos_de_candidatos,\n",
        "    category_column_name = \"genero\",\n",
        "    count_column_name=\"count\",\n",
        "    title = \"Divisão entre gêneros\",\n",
        "    height = 6, width = 6\n",
        ").show()"
      ]
    },
    {
      "cell_type": "markdown",
      "id": "8c682eb4",
      "metadata": {
        "id": "8c682eb4"
      },
      "source": [
        "A base de candidatos do gênero feminino é de aproximadamente 1/3 do total, curiosamente, o mínimo requisitado por lei."
      ]
    },
    {
      "cell_type": "markdown",
      "id": "c18b526b",
      "metadata": {
        "id": "c18b526b"
      },
      "source": [
        "### Grau de instrução\n",
        "\n",
        "Agora, vamos observar o grau de instrução."
      ]
    },
    {
      "cell_type": "code",
      "execution_count": null,
      "id": "3368c078",
      "metadata": {
        "id": "3368c078"
      },
      "outputs": [],
      "source": [
        "grau_de_instrucao_dos_candidatos = count_column_occurencies(\n",
        "    dados_de_candidatos, \"grau_instrucao\")\n",
        "grau_de_instrucao_dos_candidatos = sort_by_categorical_field(\n",
        "    spark, grau_de_instrucao_dos_candidatos, GRAUS_DE_INSTRUCAO_SORT_ORDER, \"grau_instrucao\")\n",
        "grau_de_instrucao_dos_candidatos.show(truncate=False)\n"
      ]
    },
    {
      "cell_type": "code",
      "source": [
        "\n",
        "grau_de_instrução_proportions = measure_column_value_proportions(\n",
        "    dados_de_candidatos, \"grau_instrucao\")\n",
        "grau_de_instrução_proportions = sort_by_categorical_field(\n",
        "    spark, grau_de_instrução_proportions, GRAUS_DE_INSTRUCAO_SORT_ORDER, \"grau_instrucao\")\n",
        "grau_de_instrução_proportions.show(truncate=False)\n"
      ],
      "metadata": {
        "id": "QalwSwtKzTNk"
      },
      "id": "QalwSwtKzTNk",
      "execution_count": null,
      "outputs": []
    },
    {
      "cell_type": "code",
      "source": [
        "create_bar_chart(\n",
        "    grau_de_instrucao_dos_candidatos,\n",
        "    category_column_name=\"grau_instrucao\",\n",
        "    count_column_name=\"count\",\n",
        "    category_label=\"Grau de instrução\",\n",
        "    count_label=\"Total de registros\",\n",
        "    title=\"Grau de instrução\",\n",
        "    height=3, width=10,\n",
        "    use_legends=True\n",
        ").show()"
      ],
      "metadata": {
        "id": "V8f1hZxHzUnu"
      },
      "id": "V8f1hZxHzUnu",
      "execution_count": null,
      "outputs": []
    },
    {
      "cell_type": "code",
      "source": [
        "create_pie_chart(\n",
        "    grau_de_instrução_proportions,\n",
        "    category_column_name=\"grau_instrucao\",\n",
        "    count_column_name=\"proportion\",\n",
        "    title=\"Proporção dos dados\",\n",
        "    height=8, width=8,\n",
        "    startangle = 180,\n",
        "    include_value_labels=False\n",
        ").show()"
      ],
      "metadata": {
        "id": "Ck-jY0K7ylIa"
      },
      "id": "Ck-jY0K7ylIa",
      "execution_count": null,
      "outputs": []
    },
    {
      "cell_type": "markdown",
      "id": "7c6665c6",
      "metadata": {
        "id": "7c6665c6"
      },
      "source": [
        "Sobre o grau de instrução, existem muito poucos candidatos no nível `ANALFABETO` comparando aos demais (menos de 1%) . Como este valor é irrelevante frente aos demais, podemos excluir."
      ]
    },
    {
      "cell_type": "code",
      "execution_count": null,
      "id": "365df514",
      "metadata": {
        "id": "365df514"
      },
      "outputs": [],
      "source": [
        "dados_de_candidatos = dados_de_candidatos.filter(col(\"grau_instrucao\") != \"ANALFABETO\")"
      ]
    },
    {
      "cell_type": "markdown",
      "id": "4e4ef567",
      "metadata": {
        "id": "4e4ef567"
      },
      "source": [
        "### Estado civil\n",
        "\n",
        "Agora, vamos analisar os valores para o estado civil:"
      ]
    },
    {
      "cell_type": "code",
      "execution_count": null,
      "id": "cb972f99",
      "metadata": {
        "id": "cb972f99"
      },
      "outputs": [],
      "source": [
        "estado_civil_dos_candidatos = count_column_occurencies(dados_de_candidatos, \"estado_civil\")\n",
        "estado_civil_dos_candidatos.show(truncate=False)\n",
        "measure_column_value_proportions(dados_de_candidatos, \"estado_civil\").show(truncate=False)\n",
        "\n",
        "create_bar_chart(\n",
        "    estado_civil_dos_candidatos,\n",
        "    category_column_name = \"estado_civil\",\n",
        "    count_column_name=\"count\",\n",
        "    category_label= \"Estado Civil\",\n",
        "    count_label = \"Total de registros\",\n",
        "    title = \"Estado civil dos candidatos\",\n",
        "    height = 3, width = 10,\n",
        "    use_legends=True\n",
        ").show()"
      ]
    },
    {
      "cell_type": "markdown",
      "id": "40af99f7",
      "metadata": {
        "id": "40af99f7"
      },
      "source": [
        "Para fins de comparação, os estados civis `SEPARADO(A) JUDICIALMENTE` e `DIVORCIADO(A)` são equivalentes do ponto de vista do eleitor, então vamos assumir ambos como o mesmo estado civil que criaremos, chamado `SEPARADO`."
      ]
    },
    {
      "cell_type": "code",
      "execution_count": null,
      "id": "6a4a7a8e",
      "metadata": {
        "id": "6a4a7a8e"
      },
      "outputs": [],
      "source": [
        "dados_de_candidatos = dados_de_candidatos.withColumn(\"estado_civil\", mescla_estados_civis_udf(col(\"estado_civil\")))\n",
        "\n",
        "estado_civil_dos_candidatos = count_column_occurencies(dados_de_candidatos, \"estado_civil\")\n",
        "estado_civil_dos_candidatos.show(truncate=False)\n",
        "measure_column_value_proportions(dados_de_candidatos, \"estado_civil\").show(truncate=False)\n",
        "\n",
        "create_bar_chart(\n",
        "    estado_civil_dos_candidatos,\n",
        "    category_column_name = \"estado_civil\",\n",
        "    count_column_name=\"count\",\n",
        "    category_label= \"Estado Civil\",\n",
        "    count_label = \"Total de registros\",\n",
        "    title = \"Estado civil dos candidatos\",\n",
        "    height = 3, width = 10,\n",
        "    use_legends=True\n",
        ").show()"
      ]
    },
    {
      "cell_type": "markdown",
      "id": "82bdfea1",
      "metadata": {
        "id": "82bdfea1"
      },
      "source": [
        "### Cor/Raça\n",
        "\n",
        "Nesta seção, estudaremos a coluna raça declarada"
      ]
    },
    {
      "cell_type": "code",
      "execution_count": null,
      "id": "2626cdb0",
      "metadata": {
        "id": "2626cdb0"
      },
      "outputs": [],
      "source": [
        "dados_de_candidatos = dados_de_candidatos.withColumn(\"cor_raca\", mescla_estados_civis_udf(col(\"cor_raca\")))\n",
        "\n",
        "raca_dos_candidatos = count_column_occurencies(dados_de_candidatos, \"cor_raca\")\n",
        "raca_dos_candidatos.show(truncate=False)\n",
        "measure_column_value_proportions(dados_de_candidatos, \"cor_raca\").show(truncate=False)\n",
        "\n",
        "create_bar_chart(\n",
        "    raca_dos_candidatos,\n",
        "    category_column_name = \"cor_raca\",\n",
        "    count_column_name=\"count\",\n",
        "    category_label= \"Raça declarada\",\n",
        "    count_label = \"Total de registros\",\n",
        "    title = \"Raça dos candidatos\",\n",
        "    height = 3, width = 10,\n",
        "    use_legends=True\n",
        ").show()"
      ]
    },
    {
      "cell_type": "markdown",
      "id": "5965ba67",
      "metadata": {
        "id": "5965ba67"
      },
      "source": [
        "Os grupos `INDÍGENA`, `AMARELA` e `NÃO INFORMADO` correspondem individualmente a menos de 1% da base cada um. Surgem duas hipóteses:\n",
        "\n",
        "* Somar estes grupos criando um grupo `OUTROS`: somando-os, teremos um percentual em torno de 1,5%, o que ainda será baixo frente aos demais.\n",
        "* Excluir os dados relacionados a estes grupos.\n",
        "\n",
        "Como a soma ainda será muito baixa frente aos demais, apenas excluirei os dados destes grupos."
      ]
    },
    {
      "cell_type": "code",
      "execution_count": null,
      "id": "47d65bdb",
      "metadata": {
        "id": "47d65bdb"
      },
      "outputs": [],
      "source": [
        "dados_de_candidatos = dados_de_candidatos.filter((col(\"cor_raca\") != lit(\"INDÍGENA\")) & (col(\"cor_raca\") != lit(\"AMARELA\")) & (col(\"cor_raca\") != lit(\"NÃO INFORMADO\")))\n",
        "\n",
        "raca_dos_candidatos = count_column_occurencies(dados_de_candidatos, \"cor_raca\")\n",
        "raca_dos_candidatos.show(truncate=False)\n",
        "measure_column_value_proportions(dados_de_candidatos, \"cor_raca\").show(truncate=False)\n",
        "\n",
        "create_bar_chart(\n",
        "    raca_dos_candidatos,\n",
        "    category_column_name = \"cor_raca\",\n",
        "    count_column_name=\"count\",\n",
        "    category_label= \"Raça declarada\",\n",
        "    count_label = \"Total de registros\",\n",
        "    title = \"Raça dos candidatos\",\n",
        "    height = 3, width = 10,\n",
        "    use_legends=True\n",
        ").show()"
      ]
    },
    {
      "cell_type": "markdown",
      "id": "18d21634",
      "metadata": {
        "id": "18d21634"
      },
      "source": [
        "### Ocupação e Reeleição\n",
        "\n",
        "Para ocupação, temos interesse apenas em saber se o candidato está buscando a reeleição, ou seja, se possui a ocupação `VEREADOR`. Assim sendo, vamos começar extraindo uma nova coluna à partir da coluna ocupação, a coluna `busca_reeleicao`, e à partir disso, a coluna `ocupacao` perderá a relevância."
      ]
    },
    {
      "cell_type": "code",
      "execution_count": null,
      "id": "73f2e67b",
      "metadata": {
        "id": "73f2e67b"
      },
      "outputs": [],
      "source": [
        "dados_de_candidatos = \\\n",
        "    dados_de_candidatos\\\n",
        "        .withColumn(\"busca_reeleicao\", mescla_ocupação_udf(col(\"ocupacao\")))\\\n",
        "        .drop(\"ocupacao\")\n",
        "\n",
        "dados_de_candidatos.printSchema()\n",
        "dados_de_candidatos.show(10)"
      ]
    },
    {
      "cell_type": "code",
      "execution_count": null,
      "id": "ef7f381f",
      "metadata": {
        "id": "ef7f381f"
      },
      "outputs": [],
      "source": [
        "tentativas_reeleicao = count_column_occurencies(dados_de_candidatos, \"busca_reeleicao\")\n",
        "tentativas_reeleicao.show(truncate=False)\n",
        "tentativas_reeleicao_proportions = measure_column_value_proportions(dados_de_candidatos, \"busca_reeleicao\")\n",
        "tentativas_reeleicao_proportions.show(truncate=False)\n",
        "\n",
        "create_bar_chart(\n",
        "    tentativas_reeleicao,\n",
        "    category_column_name = \"busca_reeleicao\",\n",
        "    count_column_name=\"count\",\n",
        "    category_label= \"Busca Reeleicao\",\n",
        "    count_label = \"Total de registros\",\n",
        "    title = \"Candidatos buscando reeleicao\",\n",
        "    height = 3, width = 10,\n",
        "    use_legends=True\n",
        ").show()"
      ]
    },
    {
      "cell_type": "code",
      "source": [
        "create_pie_chart(\n",
        "    tentativas_reeleicao,\n",
        "    category_column_name = \"busca_reeleicao\",\n",
        "    count_column_name=\"count\",\n",
        "    title = \"Divisão entre candidatos que buscam reeleição\",\n",
        "    height = 6, width = 6\n",
        ").show()"
      ],
      "metadata": {
        "id": "-Oy0PhBfwIGo"
      },
      "id": "-Oy0PhBfwIGo",
      "execution_count": null,
      "outputs": []
    },
    {
      "cell_type": "markdown",
      "id": "86ef41a0",
      "metadata": {
        "id": "86ef41a0"
      },
      "source": [
        "Apenas $5,7\\%$ dos candidatos buscam a reeleição. Mas ainda assim, por estudos internos, podemos acreditar que este tende a ser um fator de peso, à favor ou contra. E mesmo a proporção sendo tão diferente vamos mantê-los."
      ]
    },
    {
      "cell_type": "markdown",
      "id": "037f5214",
      "metadata": {
        "id": "037f5214"
      },
      "source": [
        "### Data de nascimento e Idade\n",
        "\n",
        "A data de nascimento em si é um campo de menor acoplamento, mas a idade, por ser um número mais fácil de relativizar, é melhor. Para facilitar o cálculo da idade, vou apenas assumir a maior idade possível do candidato no ano da eleição, em 2024, desconsiderando tanto o dia e mês de seu nascimento quanto o dia e mês da eleição. Antes de tudo, sabemos que, pela documentação, pode haver registros com data de nascimento vazia, de antemão, já vamos remover estes registros antes de calcular a data de nascimento."
      ]
    },
    {
      "cell_type": "code",
      "execution_count": null,
      "id": "9301f114",
      "metadata": {
        "id": "9301f114"
      },
      "outputs": [],
      "source": [
        "dados_de_candidatos = dados_de_candidatos\\\n",
        "    .filter(col(\"data_nascimento\") != lit(\"\"))\\\n",
        "    .withColumn(\"idade\", calcula_idade_no_ano_udf(col(\"data_nascimento\"), lit(2024)))\\\n",
        "    .drop(\"data_nascimento\")\n",
        "\n",
        "dados_de_candidatos.show()"
      ]
    },
    {
      "cell_type": "markdown",
      "id": "e704b6a0",
      "metadata": {
        "id": "e704b6a0"
      },
      "source": [
        "Idade é um campo numérico, e podemos analisar seus valores de uma forma um pouco mais interessante, medindo também a centralidade e a dispersão."
      ]
    },
    {
      "cell_type": "code",
      "execution_count": null,
      "id": "01c4272b",
      "metadata": {
        "id": "01c4272b"
      },
      "outputs": [],
      "source": [
        "from mvp.visualization import create_box_plot\n",
        "\n",
        "dados_de_candidatos.select(\"idade\").describe().show()\n",
        "\n",
        "create_box_plot(\n",
        "    dados_de_candidatos,\n",
        "    column_name=\"idade\",\n",
        "    title = \"Dispersão das idades\",\n",
        "    width = 8,\n",
        "    height = 6\n",
        ").show()"
      ]
    },
    {
      "cell_type": "markdown",
      "id": "7e839ef5",
      "metadata": {
        "id": "7e839ef5"
      },
      "source": [
        "Fica claro que temos outliers, e que há valores inválidos. A idade mínima legal para candidatura é 18 anos, o que é compatível, mas dificilmente temos um candidato com 1050 anos, então vamos encontrar as maiores idades e remover aquelas que sejam incompatíveis com a realidade."
      ]
    },
    {
      "cell_type": "code",
      "execution_count": null,
      "id": "c0e2b818",
      "metadata": {
        "id": "c0e2b818"
      },
      "outputs": [],
      "source": [
        "dados_de_candidatos.select(\"idade\").orderBy(col(\"idade\").desc()).show(5)"
      ]
    },
    {
      "cell_type": "markdown",
      "id": "aa7693f8",
      "metadata": {
        "id": "aa7693f8"
      },
      "source": [
        "Uma idade de 97 anos é possível para um ser-humano, apesar de raro. Porém, idades de 232 ou superior não. Aqui temos duas opções para definir os valores a serem removidos: podemos remover apenas os valores humanamente impossíveis, como os valores acima de 232 anos, ou tratar os outlier detectados estatísticamente.\n",
        "\n",
        "Vou assumir uma abordagem híbrida: Vou remover os valores humanamente impossíveis, ou seja, idades acima de 232 anos, e após isso, substituir os outliers pelo valor do limite superior."
      ]
    },
    {
      "cell_type": "code",
      "execution_count": null,
      "id": "d17d5a48",
      "metadata": {
        "id": "d17d5a48"
      },
      "outputs": [],
      "source": [
        "dados_de_candidatos = dados_de_candidatos.filter(col(\"idade\") < lit(232))\n",
        "dados_de_candidatos = replace_outliers(\n",
        "    dados_de_candidatos,\n",
        "    target_column = \"idade\",\n",
        "    use_median = False,\n",
        "    replace_lower = False\n",
        ")\n",
        "dados_de_candidatos.select(\"idade\").describe().show()\n",
        "dados_de_candidatos.orderBy(col(\"idade\").desc()).show(5)\n",
        "create_box_plot(\n",
        "    dados_de_candidatos,\n",
        "    column_name=\"idade\",\n",
        "    title = \"Dispersão das idades\",\n",
        "    width = 8,\n",
        "    height = 6\n",
        ").show()"
      ]
    },
    {
      "cell_type": "code",
      "execution_count": null,
      "id": "70d331a6",
      "metadata": {
        "id": "70d331a6"
      },
      "outputs": [],
      "source": [
        "create_histogram(\n",
        "    dados_de_candidatos,\n",
        "    target_column_name= \"idade\",\n",
        "    title = \"Distribuição da idade dos candidados\",\n",
        "    width=8,\n",
        "    bin_size=10,\n",
        "    height=6\n",
        ").show()"
      ]
    },
    {
      "cell_type": "markdown",
      "id": "69a08b21",
      "metadata": {
        "id": "69a08b21"
      },
      "source": [
        "Agora temos uma distribuição mais consistente, mostrando a maioria dos candidatos com idades na faixa de 40 a 50 anos, mas com alta participação também de candidatos entre 50 e 60, o que se parece mais com a realidade da política que conhecemos."
      ]
    },
    {
      "cell_type": "markdown",
      "id": "5022c6ba",
      "metadata": {
        "id": "5022c6ba"
      },
      "source": [
        "Um próximo passo, para facilitar a integração com o modelo de *machine learning* futuro, é separar a coluna em buckets, vamos assumir 10 anos como um intervalo razoável de segmentação."
      ]
    },
    {
      "cell_type": "code",
      "execution_count": null,
      "id": "f4478cb0",
      "metadata": {
        "id": "f4478cb0"
      },
      "outputs": [],
      "source": [
        "dados_de_candidatos = dados_de_candidatos\\\n",
        "    .withColumn(\"segmento_idade\", segmenta_idade_udf(col(\"idade\")))\n",
        "dados_de_candidatos.show()"
      ]
    },
    {
      "cell_type": "markdown",
      "id": "b5323e73",
      "metadata": {
        "id": "b5323e73"
      },
      "source": [
        "### Situação no turno\n",
        "\n",
        "A situação no turno é quem define se o candidato foi ou não eleito. Há várias formas de o candidato ser eleito, mas temos interesse apenas em um resultado binário, ou seja, se foi eleito ou não, Vamos estudar estes valores, eliminar os inválidos, e mesclar os grupos entre eleitos e não eleitos."
      ]
    },
    {
      "cell_type": "code",
      "execution_count": null,
      "id": "153bae58",
      "metadata": {
        "id": "153bae58"
      },
      "outputs": [],
      "source": [
        "count_column_occurencies(\n",
        "    dados_de_candidatos,\n",
        "    \"situacao_no_turno\"\n",
        ").show()"
      ]
    },
    {
      "cell_type": "code",
      "source": [
        "measure_column_value_proportions(\n",
        "    dados_de_candidatos,\n",
        "    \"situacao_no_turno\"\n",
        ").show()"
      ],
      "metadata": {
        "id": "3m-nzqgiytiD"
      },
      "id": "3m-nzqgiytiD",
      "execution_count": null,
      "outputs": []
    },
    {
      "cell_type": "markdown",
      "id": "770fd3f0",
      "metadata": {
        "id": "770fd3f0"
      },
      "source": [
        "Vamos começar eliminando os valores `#NULO`, que pela documentação do dataset, sabemos que são dados inválidos. Então, vamos criar uma nova coluna booleana com o nome `eleito` que condensará como verdadeiro os candidatos na situação `ELEITO POR MÉDIA` e `ELEITO POR QP` e como falso aqueles nas situações `NÃO ELEITO` e `SUPLENTE`."
      ]
    },
    {
      "cell_type": "code",
      "execution_count": null,
      "id": "468dca07",
      "metadata": {
        "id": "468dca07"
      },
      "outputs": [],
      "source": [
        "dados_de_candidatos = dados_de_candidatos\\\n",
        "    .filter(col(\"situacao_no_turno\") != lit(\"#NULO\"))\\\n",
        "    .withColumn(\"eleito\", mescla_situacao_no_turno_udf(col(\"situacao_no_turno\")))\\\n",
        "    .drop(\"situacao_no_turno\")"
      ]
    },
    {
      "cell_type": "code",
      "execution_count": null,
      "id": "2fc66c7d",
      "metadata": {
        "id": "2fc66c7d"
      },
      "outputs": [],
      "source": [
        "resultado_candidato = count_column_occurencies(dados_de_candidatos, \"eleito\")\n",
        "resultado_candidato.show(truncate=False)\n",
        "\n",
        "resultado_candidato_proportions = measure_column_value_proportions(dados_de_candidatos, \"eleito\")\n",
        "resultado_candidato_proportions.show(truncate=False)\n",
        "\n",
        "create_bar_chart(\n",
        "    resultado_candidato,\n",
        "    category_column_name = \"eleito\",\n",
        "    count_column_name=\"count\",\n",
        "    category_label= \"Eleito\",\n",
        "    count_label = \"Total de registros\",\n",
        "    title = \"Resultado do Candidato\",\n",
        "    height = 3, width = 10,\n",
        "    use_legends=True\n",
        ").show()"
      ]
    },
    {
      "cell_type": "code",
      "source": [
        "create_pie_chart(\n",
        "    resultado_candidato,\n",
        "    category_column_name = \"eleito\",\n",
        "    count_column_name=\"count\",\n",
        "    title = \"Divisão entre candidatos eleitos ou não\",\n",
        "    height = 6, width = 6\n",
        ").show()"
      ],
      "metadata": {
        "id": "jZatOAYLyxvM"
      },
      "id": "jZatOAYLyxvM",
      "execution_count": null,
      "outputs": []
    },
    {
      "cell_type": "markdown",
      "id": "077c26f4",
      "metadata": {
        "id": "077c26f4"
      },
      "source": [
        "A análise geral mostra que em torno de $14\\%$ dos candidatos foi eleita. Isso da fim a etapa de pre-processamento do dataset de candidados separado dos demais. Agora, vamos seguir para o dataset de bens de candidatos e de vagas, para posteriormente fazer um pré-processamento e uma análise do dataset conjunto resultante."
      ]
    },
    {
      "cell_type": "markdown",
      "id": "bf5a17f7",
      "metadata": {
        "id": "bf5a17f7"
      },
      "source": [
        "## Bens de candidatos\n",
        "\n",
        "Agora vamos trabalhar com o dataset de bens de candidatos. Vamos considerar apenas o valor dos bens, então, podemos nos limitar a excluir dados inválidos e somar os bens totais de cada candidato."
      ]
    },
    {
      "cell_type": "code",
      "execution_count": null,
      "id": "6b070122",
      "metadata": {
        "id": "6b070122"
      },
      "outputs": [],
      "source": [
        "bens_de_candidatos = load_data_source(spark, bens_de_candidados_source_path)\n",
        "bens_de_candidatos.show(10, truncate=False)"
      ]
    },
    {
      "cell_type": "markdown",
      "id": "58f1d08c",
      "metadata": {
        "id": "58f1d08c"
      },
      "source": [
        "Há diversas colunas que não são relevantes, mas podemos concentrar apenas nas relevantes.\n",
        "\n",
        "* Para mesclar com o dataset de candidatos, precisamos apenas do código da eleição (`CD_ELEICAO`), código da uniade eleitoral (`SG_UE`) e o id do candidato (`SQ_CANDIDATO`)\n",
        "* Para calcular o patrimônio dos candidatos, precisamos apenas da coluna correspondente ao valor do bem (`VR_BEM_CANDIDATO`).\n",
        "* Vamos filtrar apenas por eleições ordinárias (`CD_TIPO_ELEICAO = 2`), embora, isso não seja uma preocupação, já que o código da eleição também é um critério\n",
        "* Vamos remover bens de valor nulo ou vazio"
      ]
    },
    {
      "cell_type": "code",
      "execution_count": null,
      "id": "fe62aa0f",
      "metadata": {
        "id": "fe62aa0f"
      },
      "outputs": [],
      "source": [
        "bens_de_candidatos = bens_de_candidatos\\\n",
        "    .filter((col(\"CD_TIPO_ELEICAO\") == lit(2)) & (col(\"VR_BEM_CANDIDATO\") != lit(\"\")) & (col(\"VR_BEM_CANDIDATO\").isNotNull()))\\\n",
        "    .select(\"CD_ELEICAO\", \"SG_UE\", \"SQ_CANDIDATO\", \"DS_TIPO_BEM_CANDIDATO\", \"VR_BEM_CANDIDATO\")\\\n",
        "    .withColumnRenamed(\"CD_ELEICAO\", \"codigo_eleicao\")\\\n",
        "    .withColumnRenamed(\"SG_UE\", \"codigo_unidade_eleitoral\")\\\n",
        "    .withColumnRenamed(\"SQ_CANDIDATO\", \"codigo_candidato\")\\\n",
        "    .withColumnRenamed(\"DS_TIPO_BEM_CANDIDATO\", \"tipo_do_bem\")\\\n",
        "    .withColumnRenamed(\"VR_BEM_CANDIDATO\", \"valor_do_bem\")\n",
        "\n",
        "bens_de_candidatos.printSchema()\n",
        "\n",
        "bens_de_candidatos.show(5, truncate=False)"
      ]
    },
    {
      "cell_type": "markdown",
      "id": "f268cac9",
      "metadata": {
        "id": "f268cac9"
      },
      "source": [
        "Um ponto de atenção é que o valor do bem está sendo carregado como texto, e precisamos que seja numérico. Vamos convertê-lo."
      ]
    },
    {
      "cell_type": "code",
      "execution_count": null,
      "id": "62d7a887",
      "metadata": {
        "id": "62d7a887"
      },
      "outputs": [],
      "source": [
        "bens_de_candidatos = bens_de_candidatos\\\n",
        "    .withColumn(\"valor_do_bem\", parse_text_to_float_udf(col(\"valor_do_bem\")))\n",
        "\n",
        "bens_de_candidatos.printSchema()"
      ]
    },
    {
      "cell_type": "code",
      "execution_count": null,
      "id": "adef2120",
      "metadata": {
        "id": "adef2120"
      },
      "outputs": [],
      "source": [
        "bens_de_candidatos.select(\"valor_do_bem\").describe().show()"
      ]
    },
    {
      "cell_type": "markdown",
      "id": "4095303b",
      "metadata": {
        "id": "4095303b"
      },
      "source": [
        "Pelo valor máxmo, fica claro que há ao menos um valor errado no dataset, pois o valor máximo corresponde a *dez bilhões, seiscentos milhões, duzentos e cinquenta mil*. Há também bens com valor 0, o que é contraditório. Vamos garantir bens apenas com valores maiores que zero e começar analisando os bens mais caros e mais baratos, mesmo sabendo que se tratam de tipos de bens diferentes, e observar outros outliers:"
      ]
    },
    {
      "cell_type": "code",
      "execution_count": null,
      "id": "0c9c023d",
      "metadata": {
        "id": "0c9c023d"
      },
      "outputs": [],
      "source": [
        "bens_de_candidatos = bens_de_candidatos.filter(col(\"valor_do_bem\") > 0)\n",
        "\n",
        "bens_de_candidatos.select(\"tipo_do_bem\", \"valor_do_bem\")\\\n",
        "    .orderBy(col(\"valor_do_bem\").desc())\\\n",
        "    .show(10, truncate=False)"
      ]
    },
    {
      "cell_type": "code",
      "source": [
        "bens_de_candidatos.select(\"tipo_do_bem\", \"valor_do_bem\")\\\n",
        "    .orderBy(col(\"valor_do_bem\").asc())\\\n",
        "    .show(10, truncate=False)"
      ],
      "metadata": {
        "id": "hzJCAguTy2Oj"
      },
      "id": "hzJCAguTy2Oj",
      "execution_count": null,
      "outputs": []
    },
    {
      "cell_type": "markdown",
      "id": "6327329a",
      "metadata": {
        "id": "6327329a"
      },
      "source": [
        "Vemos que ainda existem valores da ordem de um dois mais *bilhões* de reais, o que é demais para um único ítem do patrimônio, sugerindo um erro de digitação ou algo do tipo. Há também valores de $R\\$0,01$, sugerindo que foi preenchido um valor mínimo apenas para declarar. Vamos eliminar estes outliers de forma estatística."
      ]
    },
    {
      "cell_type": "markdown",
      "id": "2acfd6f6",
      "metadata": {
        "id": "2acfd6f6"
      },
      "source": [
        "Será necessário analisar os outliers de cada tipo de bem, já que não é possível comparar bens de tipos diferentes. Temos certeza que há problemas, uma vez que existem valores incompatíveis, pois temos, por exemplo, um veículo automotor terrestre de $R\\$65$ milhões, e uma casa de $R\\$400$ milhões."
      ]
    },
    {
      "cell_type": "code",
      "execution_count": null,
      "id": "6f6baf94",
      "metadata": {
        "id": "6f6baf94"
      },
      "outputs": [],
      "source": [
        "dispersao_dos_bens = \\\n",
        "    calculate_group_dispersion(\n",
        "        bens_de_candidatos,\n",
        "        categories_column=\"tipo_do_bem\",\n",
        "        target_column=\"valor_do_bem\",\n",
        "        include_target_column_on_column_names = True,\n",
        "        count_outliers = True,\n",
        "    )"
      ]
    },
    {
      "cell_type": "code",
      "execution_count": null,
      "id": "b3fb8c88",
      "metadata": {
        "id": "b3fb8c88"
      },
      "outputs": [],
      "source": [
        "dispersao_dos_bens\\\n",
        "    .orderBy(col(\"tipo_do_bem\").desc())\\\n",
        "    .show(dispersao_dos_bens.count(), truncate=False)"
      ]
    },
    {
      "cell_type": "markdown",
      "id": "77a34db5",
      "metadata": {
        "id": "77a34db5"
      },
      "source": [
        "Na tabela anterior, vemos um número considerável de outliers superiores, não há outliers inferiores por que o valor de corte para o IQN será negativo. Em alguns casos, chegamos a ter alguns milhares de ítens acima do limite superior. O Gráfico de dispersão confirma o temor de grande subdeclaração, onde muitos bens são declarados com valores baixos, de forma que valores de bens próximos à zero não são considerados outliers."
      ]
    },
    {
      "cell_type": "code",
      "execution_count": null,
      "id": "f41f6593",
      "metadata": {
        "id": "f41f6593"
      },
      "outputs": [],
      "source": [
        "create_box_plot(\n",
        "    bens_de_candidatos.orderBy(col(\"tipo_do_bem\").desc()),\n",
        "    column_name=\"valor_do_bem\",\n",
        "    categories_column_name=\"tipo_do_bem\",\n",
        "    title = \"Valores de bens por tipo\",\n",
        "    width = 50,\n",
        "    height = 15,\n",
        "    x_label = \"Tipos de bens\",\n",
        "    y_label = \"Valor do bem\",\n",
        "    log_scale = True,\n",
        ").show()"
      ]
    },
    {
      "cell_type": "markdown",
      "id": "7d5f1f63",
      "metadata": {
        "id": "7d5f1f63"
      },
      "source": [
        "Agora, uma versão do dataframe com os outliers de cada tipo de bens removidos:"
      ]
    },
    {
      "cell_type": "code",
      "execution_count": null,
      "id": "f55d1381",
      "metadata": {
        "id": "f55d1381"
      },
      "outputs": [],
      "source": [
        "bens_de_candidatos = \\\n",
        "    remove_group_outliers(\n",
        "        bens_de_candidatos,\n",
        "        categories_column=\"tipo_do_bem\",\n",
        "        target_column=\"valor_do_bem\"\n",
        "    )"
      ]
    },
    {
      "cell_type": "markdown",
      "id": "2ff3c631",
      "metadata": {
        "id": "2ff3c631"
      },
      "source": [
        "Vamos visualizar a dispersão do novo data frame"
      ]
    },
    {
      "cell_type": "code",
      "execution_count": null,
      "id": "36227641",
      "metadata": {
        "id": "36227641"
      },
      "outputs": [],
      "source": [
        "create_box_plot(\n",
        "    bens_de_candidatos.orderBy(col(\"tipo_do_bem\").desc()),\n",
        "    column_name=\"valor_do_bem\",\n",
        "    categories_column_name=\"tipo_do_bem\",\n",
        "    title = \"Valores de bens por tipo (outliers removidos)\",\n",
        "    width = 50,\n",
        "    height = 15,\n",
        "    x_label = \"Tipos de bens\",\n",
        "    y_label = \"Valor do bem\",\n",
        "    log_scale = True,\n",
        ").show()"
      ]
    },
    {
      "cell_type": "markdown",
      "id": "600f30db",
      "metadata": {
        "id": "600f30db"
      },
      "source": [
        "Após a remoção dos outrliers, ainda vemos que existe um prolema de subdeclaração que não pode ser resolvido, pois mostra registros inconsistentes de valores dos dados, como vimos em etapas anteriores, os registros de valor de $R\\$0,01$ por exemplo."
      ]
    },
    {
      "cell_type": "code",
      "execution_count": null,
      "id": "addf12a6",
      "metadata": {
        "id": "addf12a6"
      },
      "outputs": [],
      "source": [
        "dispersao_dos_bens = \\\n",
        "    calculate_group_dispersion(\n",
        "        bens_de_candidatos,\n",
        "        categories_column=\"tipo_do_bem\",\n",
        "        target_column=\"valor_do_bem\",\n",
        "        include_target_column_on_column_names = True,\n",
        "        count_outliers = True,\n",
        "    )\n",
        "\n",
        "dispersao_dos_bens = dispersao_dos_bens\\\n",
        "    .orderBy(col(\"tipo_do_bem\").desc())\\\n",
        "\n",
        "dispersao_dos_bens\\\n",
        "    .show(dispersao_dos_bens.count(), truncate=False)"
      ]
    },
    {
      "cell_type": "markdown",
      "id": "a3f57278",
      "metadata": {
        "id": "a3f57278"
      },
      "source": [
        "Agora, vamos combinar os valores de bens, criando um dataset com o patrimômio de cada candidato."
      ]
    },
    {
      "cell_type": "code",
      "execution_count": null,
      "id": "c59955a3",
      "metadata": {
        "id": "c59955a3"
      },
      "outputs": [],
      "source": [
        "patrimonio_dos_candidatos = calcula_patrimonio(\n",
        "    bens_de_candidatos,\n",
        "    codigo_candidato_column = \"codigo_candidato\",\n",
        "    codigo_eleicao_column = \"codigo_unidade_eleitoral\",\n",
        "    valor_do_bem_column = \"valor_do_bem\"\n",
        ")\n",
        "\n",
        "patrimonio_dos_candidatos\\\n",
        "    .orderBy(col(\"patrimonio\").desc())\\\n",
        "    .show()"
      ]
    },
    {
      "cell_type": "markdown",
      "id": "8102e339",
      "metadata": {
        "id": "8102e339"
      },
      "source": [
        "Para analisar a dispersão do patrimômio, precisamos comparar candidatos que competem entre sí, ou seja, que estão competindo na mesma unidade eleitoral. Com isso, podemos ter uma visão do dado neste cenário. Como há muitas unidades eleitorais a visualização de todas é complexa. Vamos fazer a seguinte escolha a para análise:\n",
        "\n",
        "* Vamos selecionar algumas unidades eleitorais que contém os candidatos com maior patrimõmio\n",
        "* Vamos selecionar algumas unidades eleitorais que contém os candidatos com menor patrimõmio\n",
        "* Para cada grupo (maiores e menores), vamos plotar o gráfico das suas unidades eleitorais."
      ]
    },
    {
      "cell_type": "code",
      "execution_count": null,
      "id": "c46f56a6",
      "metadata": {
        "id": "c46f56a6"
      },
      "outputs": [],
      "source": [
        "import pyspark.sql.functions as F\n",
        "\n",
        "unidades_eleitorais_com_maior_patrimonio = patrimonio_dos_candidatos.select(\"codigo_unidade_eleitoral\", \"patrimonio\")\\\n",
        "    .groupBy(\"codigo_unidade_eleitoral\")\\\n",
        "    .agg(F.max(col(\"patrimonio\")).alias(\"patrimonio\"))\\\n",
        "    .orderBy(col(\"patrimonio\").desc())\\\n",
        "    .select(\"codigo_unidade_eleitoral\")\n",
        "unidades_eleitorais_com_maior_patrimonio.show()"
      ]
    },
    {
      "cell_type": "code",
      "source": [
        "unidades_eleitorais_com_menor_patrimonio = patrimonio_dos_candidatos.select(\"codigo_unidade_eleitoral\", \"patrimonio\")\\\n",
        "    .groupBy(\"codigo_unidade_eleitoral\")\\\n",
        "    .agg(F.min(col(\"patrimonio\")).alias(\"patrimonio\"))\\\n",
        "    .orderBy(col(\"patrimonio\").asc())\\\n",
        "    .select(\"codigo_unidade_eleitoral\")\n",
        "unidades_eleitorais_com_menor_patrimonio.show()"
      ],
      "metadata": {
        "id": "cGbYqpF1xCK3"
      },
      "id": "cGbYqpF1xCK3",
      "execution_count": null,
      "outputs": []
    },
    {
      "cell_type": "code",
      "execution_count": null,
      "id": "c3c578ea",
      "metadata": {
        "id": "c3c578ea"
      },
      "outputs": [],
      "source": [
        "entrada_para_box_plot =\\\n",
        "    unidades_eleitorais_com_maior_patrimonio.limit(10)\\\n",
        "        .join(patrimonio_dos_candidatos, on = [\"codigo_unidade_eleitoral\"], how = \"inner\")\n",
        "\n",
        "create_box_plot(\n",
        "    entrada_para_box_plot,\n",
        "    column_name=\"patrimonio\",\n",
        "    categories_column_name=\"codigo_unidade_eleitoral\",\n",
        "    title = \"Unidades com candidatos de maior patrimônio\",\n",
        "    width = 30,\n",
        "    height = 10,\n",
        "    y_label = \"Patrimônio\",\n",
        "    x_label = \"Unidade eleitoral\",\n",
        ").show()"
      ]
    },
    {
      "cell_type": "code",
      "source": [
        "entrada_para_box_plot =\\\n",
        "    unidades_eleitorais_com_menor_patrimonio.limit(10)\\\n",
        "        .join(patrimonio_dos_candidatos, on = [\"codigo_unidade_eleitoral\"], how = \"inner\")\n",
        "\n",
        "create_box_plot(\n",
        "    entrada_para_box_plot,\n",
        "    column_name=\"patrimonio\",\n",
        "    categories_column_name=\"codigo_unidade_eleitoral\",\n",
        "    title = \"Unidades com candidatos de menor patrimônio\",\n",
        "    width = 30,\n",
        "    height = 10,\n",
        "    y_label = \"Patrimônio\",\n",
        "    x_label = \"Unidade eleitoral\",\n",
        ").show()"
      ],
      "metadata": {
        "id": "K7PsrmBxxG01"
      },
      "id": "K7PsrmBxxG01",
      "execution_count": null,
      "outputs": []
    },
    {
      "cell_type": "markdown",
      "id": "45814933",
      "metadata": {
        "id": "45814933"
      },
      "source": [
        "Comprando a distribuição de patrimônio nas unidades eleitorais, entendemos uma situação interessante: De um modo geral, os valores parecem bem comportados dentro das unidades eleitorais, claro, há outliers. Uma dúvida é se estes outliers devem ser considerados erros. Considerando os valores observados (da ordem de até um milhão de reais nas unidades com maior patrimômio) e de até R$700k nas uniades de menor patrimônio, vemos que são valores compatíveis com a realidade brasileira, sobretudo na política, e faz sentido considerar estes outliers como fruto de desigualdade social e não removê-los."
      ]
    },
    {
      "cell_type": "markdown",
      "id": "e47cda7a",
      "metadata": {
        "id": "e47cda7a"
      },
      "source": [
        "## Vagas\n",
        "\n",
        "Agora vamos carregar e preparar os dados de vagas. Estes dados são mais simples, tudo que precisamos é associar as vagas ás unidades eleitorais. AS vagão serão usadas apenas como uma feature de entrada do nosso dataset de treino, afinal, as chances de eleição devem crescer se houver mais vagas disponíveis para uma dada unidade."
      ]
    },
    {
      "cell_type": "code",
      "execution_count": null,
      "id": "2fcdf2ac",
      "metadata": {
        "id": "2fcdf2ac"
      },
      "outputs": [],
      "source": [
        "vagas_por_eleicao = load_data_source(spark, vagas_por_eleicao_source_path)\n",
        "vagas_por_eleicao.printSchema()\n",
        "vagas_por_eleicao.show(truncate=False)"
      ]
    },
    {
      "cell_type": "markdown",
      "id": "142c1ffc",
      "metadata": {
        "id": "142c1ffc"
      },
      "source": [
        "Precisamos de poucas colunas, apenas a descrição do cargo para filtragem (`DS_CARGO`), a quantidade de vagas (`QT_VAGA`), o código da unidade eleitoral (`SG_UE`), e o código da eleição (`CD_ELEICAO`)."
      ]
    },
    {
      "cell_type": "code",
      "execution_count": null,
      "id": "c0dfd833",
      "metadata": {
        "id": "c0dfd833"
      },
      "outputs": [],
      "source": [
        "vagas_por_eleicao = \\\n",
        "    vagas_por_eleicao\\\n",
        "        .select(\n",
        "            \"DS_CARGO\",\n",
        "            \"QT_VAGA\",\n",
        "            \"SG_UE\",\n",
        "            \"CD_ELEICAO\"\n",
        "        )\\\n",
        "        .withColumnRenamed(\"DS_CARGO\", \"cargo\")\\\n",
        "        .withColumnRenamed(\"SG_UE\", \"codigo_unidade_eleitoral\")\\\n",
        "        .withColumnRenamed(\"CD_ELEICAO\", \"codigo_eleicao\")\\\n",
        "        .withColumn(\"QT_VAGA\", col(\"QT_VAGA\").cast(\"int\"))\\\n",
        "        .withColumnRenamed(\"QT_VAGA\", \"vagas\")\\\n",
        "        .filter(col(\"cargo\") == lit(\"Vereador\"))\\\n",
        "        .drop(\"cargo\")\n",
        "\n",
        "vagas_por_eleicao.printSchema()\n",
        "vagas_por_eleicao.show(truncate=False)"
      ]
    },
    {
      "cell_type": "markdown",
      "id": "4d950038",
      "metadata": {
        "id": "4d950038"
      },
      "source": [
        "Vamos montar agora o dataset completo, com toda a informação que precisamos para o modelo. Primeiro, juntando informações de candidatos com as informaçẽos de vagas disponíveis nas unidades eleitorais nas quais competem:"
      ]
    },
    {
      "cell_type": "code",
      "execution_count": null,
      "id": "50bd6936",
      "metadata": {
        "id": "50bd6936"
      },
      "outputs": [],
      "source": [
        "candidaturas_com_vagas = \\\n",
        "    dados_de_candidatos.\\\n",
        "        join(vagas_por_eleicao, on = [\"codigo_unidade_eleitoral\", \"codigo_eleicao\"])\n",
        "\n",
        "candidaturas_com_vagas.printSchema()\n",
        "candidaturas_com_vagas.show(truncate=False)"
      ]
    },
    {
      "cell_type": "markdown",
      "id": "5050471b",
      "metadata": {
        "id": "5050471b"
      },
      "source": [
        "Agora, juntando a informação de patrimônio dos candidados à este resultado."
      ]
    },
    {
      "cell_type": "code",
      "execution_count": null,
      "id": "4a88c241",
      "metadata": {
        "id": "4a88c241"
      },
      "outputs": [],
      "source": [
        "candidaturas_com_vagas_e_patrimonio = \\\n",
        "    candidaturas_com_vagas\\\n",
        "        .join(patrimonio_dos_candidatos, on = [\"codigo_unidade_eleitoral\", \"codigo_candidato\"], how = \"inner\")\\\n",
        "        .orderBy(\n",
        "            col(\"codigo_unidade_eleitoral\").asc(),\n",
        "            col(\"codigo_candidato\").asc()\n",
        "        )\\\n",
        "        .select(\n",
        "            \"codigo_unidade_eleitoral\",\n",
        "            \"codigo_candidato\",\n",
        "            \"genero\",\n",
        "            \"grau_instrucao\",\n",
        "            \"estado_civil\",\n",
        "            \"cor_raca\",\n",
        "            \"idade\",\n",
        "            \"segmento_idade\",\n",
        "            \"patrimonio\",\n",
        "            \"busca_reeleicao\",\n",
        "            \"vagas\",\n",
        "            \"eleito\",\n",
        "        )"
      ]
    },
    {
      "cell_type": "code",
      "execution_count": null,
      "id": "b933b16f",
      "metadata": {
        "id": "b933b16f"
      },
      "outputs": [],
      "source": [
        "candidaturas_com_vagas_e_patrimonio.printSchema()\n",
        "candidaturas_com_vagas_e_patrimonio.show(truncate=False)"
      ]
    },
    {
      "cell_type": "markdown",
      "id": "f8ebca62",
      "metadata": {
        "id": "f8ebca62"
      },
      "source": [
        "Vamos fazer algumas análises que nos permitam responder perguntas, ou levantar novas dúvidas, sobre a relação entre as colunas e os dados. Com um dado tão complexo, dificilmente uma única coluna teria relação forte direta com a variável alvo `eleito`, mas podemos fazer alguns estudos iniciais. Vamos começar separando os datasets em dois grupos, os eleitos e não eleitos:"
      ]
    },
    {
      "cell_type": "code",
      "execution_count": null,
      "id": "1845d3e4",
      "metadata": {
        "id": "1845d3e4"
      },
      "outputs": [],
      "source": [
        "candidatos_eleitos = candidaturas_com_vagas_e_patrimonio.filter(col(\"eleito\") == lit(True))\n",
        "candidatos_nao_eleitos = candidaturas_com_vagas_e_patrimonio.filter(col(\"eleito\") == lit(False))"
      ]
    },
    {
      "cell_type": "code",
      "execution_count": null,
      "id": "ab06023d",
      "metadata": {
        "id": "ab06023d"
      },
      "outputs": [],
      "source": [
        "candidatos_eleitos.select(\"idade\", \"patrimonio\", \"vagas\").describe().show(truncate=False)"
      ]
    },
    {
      "cell_type": "code",
      "execution_count": null,
      "id": "08b30322",
      "metadata": {
        "id": "08b30322"
      },
      "outputs": [],
      "source": [
        "candidatos_nao_eleitos.select(\"idade\", \"patrimonio\", \"vagas\").describe().show(truncate=False)"
      ]
    },
    {
      "cell_type": "markdown",
      "id": "329ff75a",
      "metadata": {
        "id": "329ff75a"
      },
      "source": [
        "Já vimos que entre as classes eleito/não eleito há um grande desbalanceamento, então conclusões feitas à partir deste dados seriam muito prejudiciais para a relação com o resultado. Além disso, a análide da relação entre colunas é prejudicada pelo tamanho do dataset (maior do que o colab suporta).\n",
        "\n",
        "En lugar de tratar este problema, como um problema de classificação, podemos trata-lo como um problema de regressão com algumas transformações."
      ]
    },
    {
      "cell_type": "markdown",
      "id": "278cd2c0",
      "metadata": {
        "id": "278cd2c0"
      },
      "source": [
        "## Análise e Preparação dos dados de treino\n",
        "\n",
        "Agora podemos construir os data frames de treinamento e teste. Considerar a variávei `eleito` como variável alvo pode tornar o aprendizado muito complicado, uma forma mais interessante pode usar como variável alvo a taxa de sucesso daquele grupo. Uma forma de resolver isso, é agrupar o dataframe pelas diferentes features gerando uma nova feature para cada eleição."
      ]
    },
    {
      "cell_type": "markdown",
      "id": "f377658f",
      "metadata": {
        "id": "f377658f"
      },
      "source": [
        "A probabilidade de um candidato qualquer ser eleito é o número de vagas ($v$) multiplicado por $\\dfrac{1}{c}$, onde $c$ é o número de candidatos concorrendo à mesma vaga, ou seja $\\dfrac{v}{c}$, a hipótese é que esta probabilidade seja alterada de acordo com certas características dos candidatos.\n",
        "\n",
        "Em lugar de avaliar os candidatos individualmente para o problema de classificação, vamos preparar os dados para um modelo que avalia as probabilidades de eleição dentro de um grupo condicionadas às suas features."
      ]
    },
    {
      "cell_type": "code",
      "execution_count": null,
      "id": "e0e92f70",
      "metadata": {
        "id": "e0e92f70"
      },
      "outputs": [],
      "source": [
        "import pyspark.sql.functions as F\n",
        "\n",
        "taxas_eleicoes = \\\n",
        "    candidaturas_com_vagas_e_patrimonio\\\n",
        "        .groupBy(\n",
        "            \"codigo_unidade_eleitoral\",\n",
        "            \"genero\",\n",
        "            \"grau_instrucao\",\n",
        "            \"estado_civil\",\n",
        "            \"cor_raca\",\n",
        "            \"segmento_idade\",\n",
        "            \"busca_reeleicao\",\n",
        "            \"vagas\"\n",
        "        )\\\n",
        "        .agg(\n",
        "            F.median(col(\"patrimonio\")).alias(\"patrimonio\"),\n",
        "\n",
        "            F.count(col(\"codigo_candidato\")).alias(\"total_candidatos\"),\n",
        "\n",
        "            F.sum(F.when(col(\"eleito\"), lit(1)).otherwise(0)).alias(\"total_eleitos\"),\n",
        "        )\\\n",
        "        .withColumn(\"taxa_eleitos\", col(\"total_eleitos\")/col(\"vagas\"))"
      ]
    },
    {
      "cell_type": "markdown",
      "id": "01e65714",
      "metadata": {
        "id": "01e65714"
      },
      "source": [
        "Como esses dados foram gerados à partir dos datasets que viemos analisando e trabalhando, já conhecemos os tipos de dados, mas vale revisitar esse ponto por mais clareza:"
      ]
    },
    {
      "cell_type": "code",
      "execution_count": null,
      "id": "302e648b",
      "metadata": {
        "id": "302e648b"
      },
      "outputs": [],
      "source": [
        "taxas_eleicoes.printSchema()"
      ]
    },
    {
      "cell_type": "markdown",
      "id": "f1306b31",
      "metadata": {
        "id": "f1306b31"
      },
      "source": [
        "Vamos começar observando as primeiras linhas do dataset final:"
      ]
    },
    {
      "cell_type": "code",
      "execution_count": null,
      "id": "c0c800cf",
      "metadata": {
        "id": "c0c800cf"
      },
      "outputs": [],
      "source": [
        "taxas_eleicoes.show(truncate=False)"
      ]
    },
    {
      "cell_type": "markdown",
      "id": "7408a10f",
      "metadata": {
        "id": "7408a10f"
      },
      "source": [
        "Parece haver muitos valores zero para a taxa de eleitos, vamos fazer um histograma para a taxa de eleitos e confirmar."
      ]
    },
    {
      "cell_type": "code",
      "execution_count": null,
      "id": "41d13f2e",
      "metadata": {
        "id": "41d13f2e"
      },
      "outputs": [],
      "source": [
        "create_histogram(\n",
        "    taxas_eleicoes,\n",
        "    target_column_name=\"taxa_eleitos\",\n",
        "    bins=10,\n",
        "    title = \"Distribuição da taxa de eleitos condicionada\",\n",
        ").show()"
      ]
    },
    {
      "cell_type": "markdown",
      "id": "7c0db54e",
      "metadata": {
        "id": "7c0db54e"
      },
      "source": [
        "Como esperado, a maioria dos grupos está próximo a zero, mas surpreendentemente, há grupos com taxas mais altas, que podem estar ligados a municípios com poucas vagas o que levam a taxas altas.\n",
        "\n",
        "Vamos analisar um histograma com o patrimônio dos grupos"
      ]
    },
    {
      "cell_type": "code",
      "execution_count": null,
      "id": "92ee10a4",
      "metadata": {
        "id": "92ee10a4"
      },
      "outputs": [],
      "source": [
        "create_histogram(\n",
        "    taxas_eleicoes,\n",
        "    target_column_name=\"patrimonio\",\n",
        "    bins=50,\n",
        "    title = \"Distribuição dos patrimônios condicionados\",\n",
        ").show()"
      ]
    },
    {
      "cell_type": "markdown",
      "id": "2b129d9d",
      "metadata": {
        "id": "2b129d9d"
      },
      "source": [
        "Ao analisar os candidatos individualmente nós vimos uma alta concentração do patrimônio em valores mais baixos, porém com alguns valores da ordem de milhões. O mesmo se reflete aqui ao analisarmos os grupos. Mostrando que a distribuição de patrimônio ao longo das eleções tem uma característica consistente com os fatores demográficos e/ou com a geografia.\n",
        "\n",
        "Vamos analisar a distribuição dos atributos demográficos. Vou apresentar todos e trazer algumas conclusões ao final."
      ]
    },
    {
      "cell_type": "code",
      "execution_count": null,
      "id": "bacbd872",
      "metadata": {
        "id": "bacbd872"
      },
      "outputs": [],
      "source": [
        "distribuicao_de_genero = count_column_occurencies(taxas_eleicoes, \"genero\")\n",
        "create_pie_chart(\n",
        "    distribuicao_de_genero,\n",
        "    category_column_name=\"genero\",\n",
        "    title = \"Distribuição dos gêneros\",\n",
        "    width = 6,\n",
        ").show()"
      ]
    },
    {
      "cell_type": "code",
      "execution_count": null,
      "id": "e9139d8b",
      "metadata": {
        "id": "e9139d8b"
      },
      "outputs": [],
      "source": [
        "distribuicao_de_grau_de_instrucao = count_column_occurencies(taxas_eleicoes, \"grau_instrucao\")\n",
        "distribuicao_de_grau_de_instrucao = sort_by_categorical_field(\n",
        "    spark, distribuicao_de_grau_de_instrucao, GRAUS_DE_INSTRUCAO_SORT_ORDER, \"grau_instrucao\")\n",
        "create_bar_chart(\n",
        "    distribuicao_de_grau_de_instrucao,\n",
        "    category_column_name=\"grau_instrucao\",\n",
        "    title = \"Distribuição dos Graus de instrução\",\n",
        "    category_label = \"Grau de instrução\",\n",
        "    width = 25\n",
        ").show()"
      ]
    },
    {
      "cell_type": "code",
      "execution_count": null,
      "id": "946b9472",
      "metadata": {
        "id": "946b9472"
      },
      "outputs": [],
      "source": [
        "distribuicao_de_estado_civil = count_column_occurencies(taxas_eleicoes, \"estado_civil\")\n",
        "create_bar_chart(\n",
        "    distribuicao_de_estado_civil,\n",
        "    category_column_name=\"estado_civil\",\n",
        "    title = \"Distribuição dos Estados civis\",\n",
        "    width = 10,\n",
        "    category_label = \"Estado civil\"\n",
        ").show()"
      ]
    },
    {
      "cell_type": "code",
      "execution_count": null,
      "id": "318519aa",
      "metadata": {
        "id": "318519aa"
      },
      "outputs": [],
      "source": [
        "distribuicao_de_cor_raca = count_column_occurencies(taxas_eleicoes, \"cor_raca\")\n",
        "create_bar_chart(\n",
        "    distribuicao_de_cor_raca,\n",
        "    category_column_name=\"cor_raca\",\n",
        "    title = \"Distribuição de Cor/Raça\",\n",
        "    width = 10,\n",
        "    category_label = \"Cor/Raça\"\n",
        ").show()"
      ]
    },
    {
      "cell_type": "code",
      "execution_count": null,
      "id": "7bdc3ff7",
      "metadata": {
        "id": "7bdc3ff7"
      },
      "outputs": [],
      "source": [
        "distribuicao_de_segmento_idade = count_column_occurencies(taxas_eleicoes, \"segmento_idade\")\n",
        "create_bar_chart(\n",
        "    distribuicao_de_segmento_idade,\n",
        "    category_column_name=\"segmento_idade\",\n",
        "    title = \"Distribuição das Faixas Etárias\",\n",
        "    width = 10,\n",
        "    category_label = \"Faixa Etária\"\n",
        ").show()"
      ]
    },
    {
      "cell_type": "code",
      "execution_count": null,
      "id": "cd530665",
      "metadata": {
        "id": "cd530665"
      },
      "outputs": [],
      "source": [
        "distribuicao_de_recandidatura = count_column_occurencies(taxas_eleicoes, \"busca_reeleicao\")\n",
        "create_bar_chart(\n",
        "    distribuicao_de_recandidatura,\n",
        "    category_column_name=\"busca_reeleicao\",\n",
        "    title = \"Distribuição dos grupos segundo busca por Reeleição\",\n",
        "    width = 5,\n",
        "    category_label = \"Busca Reeleição\"\n",
        ").show()"
      ]
    },
    {
      "cell_type": "markdown",
      "id": "cfddf2c8",
      "metadata": {
        "id": "cfddf2c8"
      },
      "source": [
        "De todas as observações, a mais clara, que se repete em todos os casos, é que o tamaho dos grupos é consideravelmente diferente, o que, dependendo da abordagem utilizada, pode prejudicar muito o aprendizado. Outra observação é que alguns grupos se destacam: O gênero `MASCULINO` e o grau de instrução `ENSINO MÉDIO COMPLETO` (`SUPERIOR COMPLETO` também tem uma participação próxima, juntos dominam o grau de instrução), então é de se esperar que haja maior incidência de eleições com estas features. Essa discrepância das features categoricas, potencialmente prejudica a análise.\n",
        "\n",
        "Outro ponto curioso é a districuição de faixas etárias, que é simétrica, lembrando muito uma distribuição normal.\n",
        "\n",
        "Sobre cor, brancos e pardos tem ocorrência maior. Como última análise, vamos tentar uma combinação de dados sociodemográficos e validar se há diferença clara esperada na distribuição de patrimônio as raças."
      ]
    },
    {
      "cell_type": "code",
      "execution_count": null,
      "id": "4b9c8e5a",
      "metadata": {
        "id": "4b9c8e5a"
      },
      "outputs": [],
      "source": [
        "create_histogram(\n",
        "    taxas_eleicoes.filter(col(\"cor_raca\") == lit(\"BRANCA\")),\n",
        "    target_column_name=\"patrimonio\",\n",
        "    bins=50,\n",
        "    title = \"Distribuição dos patrimônios Para cor = BRANCA\",\n",
        "    y_label = \"Grupos\",\n",
        "    height = 4, width = 8,\n",
        "    stat = 'probability'\n",
        ").show()"
      ]
    },
    {
      "cell_type": "code",
      "source": [
        "create_histogram(\n",
        "    taxas_eleicoes.filter(col(\"cor_raca\") == lit(\"PRETA\")),\n",
        "    target_column_name=\"patrimonio\",\n",
        "    bins=50,\n",
        "    title = \"Distribuição dos patrimônios Para cor = PRETA\",\n",
        "    y_label = \"Grupos\",\n",
        "    height = 4, width = 8,\n",
        "    stat = 'probability'\n",
        ").show()"
      ],
      "metadata": {
        "id": "McZ1dXL8xTY1"
      },
      "id": "McZ1dXL8xTY1",
      "execution_count": null,
      "outputs": []
    },
    {
      "cell_type": "code",
      "source": [
        "create_histogram(\n",
        "    taxas_eleicoes.filter(col(\"cor_raca\") == lit(\"PARDA\")),\n",
        "    target_column_name=\"patrimonio\",\n",
        "    bins=50,\n",
        "    title = \"Distribuição dos patrimônios Para cor = PARDA\",\n",
        "    y_label = \"Grupos\",\n",
        "    height = 4, width = 8,\n",
        "    stat = 'probability'\n",
        ").show()"
      ],
      "metadata": {
        "id": "7BrlfnB9xVGY"
      },
      "id": "7BrlfnB9xVGY",
      "execution_count": null,
      "outputs": []
    },
    {
      "cell_type": "markdown",
      "id": "5e598d49",
      "metadata": {
        "id": "5e598d49"
      },
      "source": [
        "Vemos que para os declarados pretos, há uma frequẽncia maior de grupos com menor patrimônio."
      ]
    },
    {
      "cell_type": "code",
      "execution_count": null,
      "id": "18d53dc1",
      "metadata": {
        "id": "18d53dc1"
      },
      "outputs": [],
      "source": [
        "create_histogram(\n",
        "    taxas_eleicoes.filter(col(\"cor_raca\") == lit(\"BRANCA\")),\n",
        "    target_column_name=\"taxa_eleitos\",\n",
        "    bins=100,\n",
        "    title = \"Distribuição das taxas de eleitos Para cor = BRANCA\",\n",
        "    y_label = \"Grupos\",\n",
        "    height = 4, width = 8,\n",
        "    stat = 'probability'\n",
        ").show()\n"
      ]
    },
    {
      "cell_type": "code",
      "source": [
        "create_histogram(\n",
        "    taxas_eleicoes.filter(col(\"cor_raca\") == lit(\"PRETA\")),\n",
        "    target_column_name=\"taxa_eleitos\",\n",
        "    bins=100,\n",
        "    title = \"Distribuição das taxas de eleitos Para cor = PRETA\",\n",
        "    y_label = \"Grupos\",\n",
        "    height = 4, width = 8,\n",
        "    stat = 'probability'\n",
        ").show()\n"
      ],
      "metadata": {
        "id": "VAuDoc0vxXok"
      },
      "id": "VAuDoc0vxXok",
      "execution_count": null,
      "outputs": []
    },
    {
      "cell_type": "code",
      "source": [
        "create_histogram(\n",
        "    taxas_eleicoes.filter(col(\"cor_raca\") == lit(\"PARDA\")),\n",
        "    target_column_name=\"taxa_eleitos\",\n",
        "    bins=100,\n",
        "    title = \"Distribuição das taxas de eleitos Para cor = PARDA\",\n",
        "    y_label = \"Grupos\",\n",
        "    height = 4, width = 8,\n",
        "    stat = 'probability'\n",
        ").show()"
      ],
      "metadata": {
        "id": "nzeFWIAwxaIC"
      },
      "id": "nzeFWIAwxaIC",
      "execution_count": null,
      "outputs": []
    },
    {
      "cell_type": "markdown",
      "id": "db43c9af",
      "metadata": {
        "id": "db43c9af"
      },
      "source": [
        "Analisando o gráfico, não parece haver diferença considerável entre as taxas de eleição para as diferentes raças. As demais features categóricas oferecem muita discrepância entre as categorias, dificultando uma análise geral.\n",
        "\n",
        "Com isso, temos a resposta para nossas hipóteses sobre raça: Não parece haver uma relação clara entre a raça do candidato e suas chances de sucesso, porém, parece sim haver uma relação, ainda que baixa, entre a raça do candidato e seu patrimônio, sobretudo para candidatos declarados PRETOS."
      ]
    },
    {
      "cell_type": "markdown",
      "id": "e0c674a1",
      "metadata": {
        "id": "e0c674a1"
      },
      "source": [
        "O número de candidatos que busca reeleição, comparado ao de candidatos não-vereadores, é muito baixo, mas vamos fazer um histograma e comparar a taxa de eleitos nestes grupos."
      ]
    },
    {
      "cell_type": "code",
      "execution_count": null,
      "id": "c2482d42",
      "metadata": {
        "id": "c2482d42"
      },
      "outputs": [],
      "source": [
        "create_histogram(\n",
        "    taxas_eleicoes.filter(col(\"busca_reeleicao\") == lit(True)),\n",
        "    target_column_name=\"taxa_eleitos\",\n",
        "    bins=100,\n",
        "    title = \"Distribuição da taxa de sucesso para candidatos que buscam reeleição\",\n",
        "    y_label = \"Grupos\",\n",
        "    height = 4, width = 8,\n",
        "    stat = 'probability'\n",
        ").show()"
      ]
    },
    {
      "cell_type": "code",
      "source": [
        "create_histogram(\n",
        "    taxas_eleicoes.filter(col(\"busca_reeleicao\") == lit(False)),\n",
        "    target_column_name=\"taxa_eleitos\",\n",
        "    bins=100,\n",
        "    title = \"Distribuição da taxa de sucesso para candidatos que não são vereadores\",\n",
        "    y_label = \"Grupos\",\n",
        "    height = 4, width = 8,\n",
        "    stat = 'probability'\n",
        ").show()"
      ],
      "metadata": {
        "id": "_jGi5zmrxci6"
      },
      "id": "_jGi5zmrxci6",
      "execution_count": null,
      "outputs": []
    },
    {
      "cell_type": "markdown",
      "id": "1b69307e",
      "metadata": {
        "id": "1b69307e"
      },
      "source": [
        "Fica claro que o número de grupos, com taxa de reeleição em torno de 0.1 ou 0.2 é proporcionalmente maior para candidatos que tentam reeleição, ou seja, o fato de já ser um vereador influencia fortemente nas chances de reeleição, o que responde mais uma das nossas hipóteses."
      ]
    },
    {
      "cell_type": "markdown",
      "id": "1bc81eec",
      "metadata": {
        "id": "1bc81eec"
      },
      "source": [
        "Para avaliar a relação do patrimômio com a taxa de sucesso."
      ]
    },
    {
      "cell_type": "code",
      "execution_count": null,
      "id": "cdeb880a",
      "metadata": {
        "id": "cdeb880a"
      },
      "outputs": [],
      "source": [
        "from mvp.visualization import create_line_chart\n",
        "\n",
        "\n",
        "create_line_chart(\n",
        "    taxas_eleicoes,\n",
        "    x_column_name=\"patrimonio\",\n",
        "    y_column_name=\"taxa_eleitos\",\n",
        "    title = \"Relação entre Patimônio e taxa de eleição\",\n",
        "    height = 6, width = 6,\n",
        "    x_label = \"Patrimônio do grupo\",\n",
        "    y_label = \"Taxa de eleitos\",\n",
        "    linewidth = 0\n",
        ").show()"
      ]
    },
    {
      "cell_type": "markdown",
      "id": "33288a21",
      "metadata": {
        "id": "33288a21"
      },
      "source": [
        "Neste gráfico não parece haver nenhuma relação clara entre o patrimônio e a taxa de sucesso. Mas como já sabemos que existe uma relação forte entre a reeleição e a taxa de sucesso, vamos separar estes grupos."
      ]
    },
    {
      "cell_type": "code",
      "execution_count": null,
      "id": "99f3f5b4",
      "metadata": {
        "id": "99f3f5b4"
      },
      "outputs": [],
      "source": [
        "create_line_chart(\n",
        "    taxas_eleicoes.filter(col(\"busca_reeleicao\") == lit(False)),\n",
        "    x_column_name=\"patrimonio\",\n",
        "    y_column_name=\"taxa_eleitos\",\n",
        "    title = \"Relação entre Patimônio e taxa de eleição (não são vereadores)\",\n",
        "    height = 6, width = 6,\n",
        "    x_label = \"Patrimônio do grupo\",\n",
        "    y_label = \"Taxa de eleitos\",\n",
        "    linewidth = 0\n",
        ").show()\n"
      ]
    },
    {
      "cell_type": "code",
      "execution_count": null,
      "id": "f7eff9dd",
      "metadata": {
        "id": "f7eff9dd"
      },
      "outputs": [],
      "source": [
        "\n",
        "create_line_chart(\n",
        "    taxas_eleicoes.filter(col(\"busca_reeleicao\") == lit(True)),\n",
        "    x_column_name=\"patrimonio\",\n",
        "    y_column_name=\"taxa_eleitos\",\n",
        "    title = \"Relação entre Patimônio e taxa de eleição (buscam reeleição)\",\n",
        "    height = 6, width = 6,\n",
        "    x_label = \"Patrimônio do grupo\",\n",
        "    y_label = \"Taxa de eleitos\",\n",
        "    linewidth = 0\n",
        ").show()"
      ]
    },
    {
      "cell_type": "markdown",
      "id": "ad8d7ec3",
      "metadata": {
        "id": "ad8d7ec3"
      },
      "source": [
        "Vamos calcular as correlações e verificar se há diferença significativa."
      ]
    },
    {
      "cell_type": "code",
      "execution_count": null,
      "id": "02d9b704",
      "metadata": {
        "id": "02d9b704"
      },
      "outputs": [],
      "source": [
        "correcao_patrimonio_reeleicao = taxas_eleicoes.filter(col(\"busca_reeleicao\") == lit(True)).stat.corr(\"taxa_eleitos\", \"patrimonio\")\n",
        "correcao_patrimonio_sem_reeleicao = taxas_eleicoes.filter(col(\"busca_reeleicao\") == lit(False)).stat.corr(\"taxa_eleitos\", \"patrimonio\")\n",
        "\n",
        "print(f\"A correção para os que buscam reeleição é {correcao_patrimonio_reeleicao} e para os que não são vereadores é {correcao_patrimonio_sem_reeleicao}\")"
      ]
    },
    {
      "cell_type": "markdown",
      "id": "c6ba941a",
      "metadata": {
        "id": "c6ba941a"
      },
      "source": [
        "Pelo gráfico qualquer observação é inconclusiva. Porém, pela correlação calculada, vemos uma tendência de crescimento muito fraca nos candidatos que não são vereadores e uma correlação negativa, ou seja, uma tendência de crescimento contrátio (e também muito fraca) para os que já são vereadores, sugerindo que estamos num cenário onde candidatos que que tentam reeleição são menos dependêntes do patrimônio para se reeleger."
      ]
    },
    {
      "cell_type": "markdown",
      "id": "c60c79ce",
      "metadata": {
        "id": "c60c79ce"
      },
      "source": [
        "## Preparação dos dados para treinamento\n",
        "\n",
        "Após a análise do dado final, vamos preparar o dado para treinamento. Utilizarei um pipeline do Spark ML para a preparação. As etapas serão:\n",
        "\n",
        "* Executar o split do dado em treino e validação (demais etapas serão seguidas para o split de treinamento)\n",
        "* Indexar as colunas categóricas (pois os modelos tratam valores numéricos, e precisarei de one-hot)\n",
        "* Criar one-hot para as colunas categóricas indexadas\n",
        "* Combinar os vetores one-hot gerados e as features numéricas num vetor só (o spark precisa de um único vetor para seus modelos de, incluindo as transformações de escala)\n",
        "* Escalar o vetor final (resultando na transformação de escala das features numéricas)\n",
        "\n",
        "As features utilizadas no treinamento serão:\n",
        "\n",
        "* genero\n",
        "* grau_instrucao\n",
        "* estado_civil\n",
        "* cor_raca\n",
        "* segmento_idade\n",
        "* busca_reeleicao\n",
        "* vagas\n",
        "* patrimonio\n",
        "\n",
        "E a feature alvo da regressão será `taxa_eleitos`"
      ]
    },
    {
      "cell_type": "markdown",
      "id": "ff7095f0",
      "metadata": {
        "id": "ff7095f0"
      },
      "source": [
        "Primeiro passo, é converter a coluna `busca_reeleicao` para inteiro, pois não podemos indexa-la sendo do tipo booleano. Assim, usamos a função `separa_treino_e_teste`, para separar uma amostra de teste do dataset, assim, o pipeline de feature engineering pode ser feito apenas na de treino."
      ]
    },
    {
      "cell_type": "code",
      "execution_count": null,
      "id": "c9376fc6",
      "metadata": {
        "id": "c9376fc6"
      },
      "outputs": [],
      "source": [
        "taxas_eleicoes = taxas_eleicoes.withColumn(\"busca_reeleicao\", col(\"busca_reeleicao\").cast(\"int\"))\n",
        "taxas_eleicoes_treino, taxas_eleicoes_teste = separa_treino_e_teste(taxas_eleicoes, 0.2, seed=12438978543)"
      ]
    },
    {
      "cell_type": "markdown",
      "id": "34db1114",
      "metadata": {
        "id": "34db1114"
      },
      "source": [
        "Com o pipeline montado, o próximo passo é \"treiná-lo\", no spark, um pipeline de feature engineering é como um modelo, e os indexers e one-hot encoders são aprendidos como modelos."
      ]
    },
    {
      "cell_type": "code",
      "execution_count": null,
      "id": "a8079943",
      "metadata": {
        "id": "a8079943"
      },
      "outputs": [],
      "source": [
        "pipeline_de_feature_engineering = preapre_feature_engineering_pipeline(taxas_eleicoes)\n",
        "\n",
        "dados_para_treino = pipeline_de_feature_engineering.transform(taxas_eleicoes_treino)\n",
        "dados_para_teste = pipeline_de_feature_engineering.transform(taxas_eleicoes_teste)"
      ]
    },
    {
      "cell_type": "markdown",
      "id": "3ebe59b6",
      "metadata": {
        "id": "3ebe59b6"
      },
      "source": [
        "Uma vez que o treinamento foi concluído e dado transfomado, temos os dados de treino e teste disponíveis. Podemos salvar para uso futuro ou prosseguir com o treinamento de um modelo."
      ]
    },
    {
      "cell_type": "code",
      "execution_count": null,
      "id": "b7a5c4d0",
      "metadata": {
        "id": "b7a5c4d0"
      },
      "outputs": [],
      "source": [
        "dados_para_treino = dados_para_treino\\\n",
        "    .select(\"codigo_unidade_eleitoral\", \"features_scaled\", \"taxa_eleitos\")\n",
        "dados_para_treino.show()\n",
        "\n",
        "dados_para_teste = dados_para_teste\\\n",
        "    .select(\"codigo_unidade_eleitoral\", \"features_scaled\", \"taxa_eleitos\")\n",
        "dados_para_teste.show()"
      ]
    },
    {
      "cell_type": "markdown",
      "id": "44d0fc69",
      "metadata": {
        "id": "44d0fc69"
      },
      "source": [
        "Ao final de tudo, vou salvar os dados."
      ]
    },
    {
      "cell_type": "code",
      "execution_count": null,
      "id": "e372a192",
      "metadata": {
        "id": "e372a192"
      },
      "outputs": [],
      "source": [
        "taxas_eleicoes_output_path = os.path.join(output_path, \"completo\")\n",
        "taxas_eleicoes.write.parquet(taxas_eleicoes_output_path)\n",
        "\n",
        "dados_para_treino_output_path = os.path.join(output_path, \"treino\")\n",
        "dados_para_treino.write.parquet(dados_para_treino_output_path)\n",
        "\n",
        "dados_para_teste_output_path = os.path.join(output_path, \"teste\")\n",
        "dados_para_teste.write.parquet(dados_para_treino_output_path)\n",
        "\n",
        "pipeline_de_feature_engineering_output_path = os.path.join(output_path, \"feature_engineering_pipeline\")\n",
        "pipeline_de_feature_engineering.save(pipeline_de_feature_engineering_output_path)"
      ]
    },
    {
      "cell_type": "code",
      "execution_count": null,
      "id": "b6487a56",
      "metadata": {
        "id": "b6487a56"
      },
      "outputs": [],
      "source": []
    }
  ],
  "metadata": {
    "kernelspec": {
      "display_name": "Python 3",
      "language": "python",
      "name": "python3"
    },
    "language_info": {
      "codemirror_mode": {
        "name": "ipython",
        "version": 3
      },
      "file_extension": ".py",
      "mimetype": "text/x-python",
      "name": "python",
      "nbconvert_exporter": "python",
      "pygments_lexer": "ipython3",
      "version": "3.11.12"
    },
    "colab": {
      "provenance": [],
      "include_colab_link": true
    }
  },
  "nbformat": 4,
  "nbformat_minor": 5
}